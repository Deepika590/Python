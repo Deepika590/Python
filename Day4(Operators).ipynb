{
 "cells": [
  {
   "cell_type": "markdown",
   "id": "ef347d26-3411-4307-b1fa-1cacb73f94c9",
   "metadata": {},
   "source": [
    "# 23/12/24 - Home Work"
   ]
  },
  {
   "cell_type": "markdown",
   "id": "53f037ba-1ad0-48d0-979d-8c571b72156f",
   "metadata": {},
   "source": [
    "#  Difference between isdigit and isnumeric"
   ]
  },
  {
   "cell_type": "code",
   "execution_count": 2,
   "id": "126d1d5e-1005-4294-ae1f-075cba998c81",
   "metadata": {},
   "outputs": [
    {
     "name": "stdout",
     "output_type": "stream",
     "text": [
      "True\n"
     ]
    }
   ],
   "source": [
    "# 1. isdigit -->It is accept only digits and does not accept fraction,subscripts,superscripts\n",
    "a=\"12345\"\n",
    "print(a.isdigit())"
   ]
  },
  {
   "cell_type": "code",
   "execution_count": 9,
   "id": "d4d719fd-9958-4919-b809-fe6b945beb0b",
   "metadata": {},
   "outputs": [
    {
     "name": "stdout",
     "output_type": "stream",
     "text": [
      "False\n",
      "False\n"
     ]
    }
   ],
   "source": [
    "a=\"1.2\"\n",
    "print(a.isdigit())\n",
    "a=\"1.2\"\n",
    "print(a.isnumeric())"
   ]
  },
  {
   "cell_type": "code",
   "execution_count": 1,
   "id": "db25be00-722d-4b2b-b4f6-8270dee06d59",
   "metadata": {},
   "outputs": [
    {
     "name": "stdout",
     "output_type": "stream",
     "text": [
      "True\n",
      "False\n"
     ]
    }
   ],
   "source": [
    "#2.isnumeric -- . It accept digits,fraction ,subscripts,superscripts\n",
    "# does not accept the points,commas,signs\n",
    "text=\"12345\"\n",
    "res=text.isnumeric()\n",
    "print(res)\n",
    "\n",
    "t1='12.3'\n",
    "n=t1.isnumeric() #point value does not accept\n",
    "print(n)\n"
   ]
  },
  {
   "cell_type": "markdown",
   "id": "886c99b2-d517-45ef-82a5-fd484905b0f0",
   "metadata": {},
   "source": [
    "# Operators"
   ]
  },
  {
   "cell_type": "markdown",
   "id": "fd9eb89a-7172-4815-a6a3-dc2145079b6b",
   "metadata": {},
   "source": [
    "# 1.Arithmetic Operator"
   ]
  },
  {
   "cell_type": "code",
   "execution_count": 3,
   "id": "a1320abf-1470-425a-a3f7-1f21d9063847",
   "metadata": {},
   "outputs": [
    {
     "name": "stdout",
     "output_type": "stream",
     "text": [
      "12\n",
      "4\n",
      "32\n",
      "2.0\n",
      "0\n",
      "64\n",
      "2\n"
     ]
    }
   ],
   "source": [
    "a=8\n",
    "b=4\n",
    "print(a+b)\n",
    "print(a-b)\n",
    "print(a*b)\n",
    "print(a/b) #return point value\n",
    "print(a%b) #return remainder value\n",
    "print(a**2) \n",
    "print(a//b) #return whole number"
   ]
  },
  {
   "cell_type": "markdown",
   "id": "a82826ba-a66a-40f4-ace8-a241b4c86dd1",
   "metadata": {},
   "source": [
    "# 2.Assignment Operator"
   ]
  },
  {
   "cell_type": "code",
   "execution_count": 14,
   "id": "09e0deb6-a875-4384-831d-c6d97e261f4a",
   "metadata": {},
   "outputs": [
    {
     "name": "stdout",
     "output_type": "stream",
     "text": [
      "12\n",
      "6\n",
      "14\n",
      "2.5\n",
      "1\n",
      "81\n",
      "2\n"
     ]
    }
   ],
   "source": [
    "x=8\n",
    "x+=4\n",
    "print(x)\n",
    "y=8\n",
    "y-=2\n",
    "print(y)\n",
    "z=7\n",
    "z*=2\n",
    "print(z)\n",
    "a=5\n",
    "a/=2\n",
    "print(a)\n",
    "b=7\n",
    "b%=3\n",
    "print(b)\n",
    "c=9\n",
    "c**=2\n",
    "print(c)\n",
    "d=8\n",
    "d//=4\n",
    "print(d)\n",
    "\n"
   ]
  },
  {
   "cell_type": "markdown",
   "id": "5e158374-db80-4ec1-9290-19837613f100",
   "metadata": {},
   "source": [
    "# 3.Comparison Operator"
   ]
  },
  {
   "cell_type": "code",
   "execution_count": 20,
   "id": "023ffab2-4438-4f8f-976d-cfe4c19bbc18",
   "metadata": {},
   "outputs": [
    {
     "name": "stdout",
     "output_type": "stream",
     "text": [
      "False\n",
      "True\n",
      "False\n",
      "True\n",
      "False\n",
      "True\n"
     ]
    }
   ],
   "source": [
    "a=4\n",
    "b=5\n",
    "print(a==b)\n",
    "print(a<b)\n",
    "print(a>b)\n",
    "print(a<=b)\n",
    "print(a>=b)\n",
    "print(a!=b)"
   ]
  },
  {
   "cell_type": "code",
   "execution_count": null,
   "id": "242c74d4-8d77-4d92-a486-dd0f21d9ea29",
   "metadata": {},
   "outputs": [],
   "source": []
  }
 ],
 "metadata": {
  "kernelspec": {
   "display_name": "Python 3 (ipykernel)",
   "language": "python",
   "name": "python3"
  },
  "language_info": {
   "codemirror_mode": {
    "name": "ipython",
    "version": 3
   },
   "file_extension": ".py",
   "mimetype": "text/x-python",
   "name": "python",
   "nbconvert_exporter": "python",
   "pygments_lexer": "ipython3",
   "version": "3.12.7"
  }
 },
 "nbformat": 4,
 "nbformat_minor": 5
}
