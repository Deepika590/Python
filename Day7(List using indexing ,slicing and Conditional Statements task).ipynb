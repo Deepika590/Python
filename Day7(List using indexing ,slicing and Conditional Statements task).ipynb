{
 "cells": [
  {
   "cell_type": "markdown",
   "id": "79ea7063-0c79-470e-b7aa-8099d0fd5bf2",
   "metadata": {},
   "source": [
    "# 27/12/24 - Home work"
   ]
  },
  {
   "cell_type": "markdown",
   "id": "f0742f57-5b20-480a-b28b-5d57190f1a62",
   "metadata": {},
   "source": [
    "# 1.List Methods"
   ]
  },
  {
   "cell_type": "code",
   "execution_count": 49,
   "id": "940a8b19-a82d-4c8e-aa6d-f6f090846f29",
   "metadata": {
    "scrolled": true
   },
   "outputs": [
    {
     "name": "stdout",
     "output_type": "stream",
     "text": [
      "[1, 22, 3, 44, 55, 6, 4, 1200]\n"
     ]
    }
   ],
   "source": [
    "# 1. Add the number `4` at the 6th index of the list `l`.  \n",
    "l=[1,22,3,44,55,6,11,1200]\n",
    "l[6]=4\n",
    "print(l)"
   ]
  },
  {
   "cell_type": "code",
   "execution_count": 3,
   "id": "7d62189e-9e48-4fb2-aa7b-c568e675c57b",
   "metadata": {},
   "outputs": [
    {
     "name": "stdout",
     "output_type": "stream",
     "text": [
      "[1, 22, 3, 55, 6, 11, 1200]\n"
     ]
    }
   ],
   "source": [
    "#2. Remove the value `44` from the list `l`. \n",
    "l=[1,22,3,44,55,6,11,1200]\n",
    "l.remove(44)\n",
    "print(l)"
   ]
  },
  {
   "cell_type": "code",
   "execution_count": 4,
   "id": "a24e2a7a-e257-4445-a1c1-b5079248ea4c",
   "metadata": {},
   "outputs": [
    {
     "name": "stdout",
     "output_type": "stream",
     "text": [
      "[1, 22, 3, 44, 55, 6, 11, 1200, 88]\n"
     ]
    }
   ],
   "source": [
    "# 3. Append the number `88` to the end of the list `l`.  \n",
    "l=[1,22,3,44,55,6,11,1200]\n",
    "l.append(88)\n",
    "print(l)"
   ]
  },
  {
   "cell_type": "code",
   "execution_count": 3,
   "id": "fca6a20b-0c83-456a-9c65-e5e340db8046",
   "metadata": {},
   "outputs": [
    {
     "name": "stdout",
     "output_type": "stream",
     "text": [
      "[1, 22, 44, 55, 6, 11, 1200]\n"
     ]
    }
   ],
   "source": [
    "# 4. Remove the value at the 2nd index of the list `l`. \n",
    "l=[1,22,3,44,55,6,11,1200]\n",
    "l.pop(2)\n",
    "print(l)"
   ]
  },
  {
   "cell_type": "code",
   "execution_count": 11,
   "id": "633d52cc-e038-42b8-8d81-228eb4c1ddd6",
   "metadata": {},
   "outputs": [
    {
     "name": "stdout",
     "output_type": "stream",
     "text": [
      "[1, 22, 3, 44, 55, 6, 11, 1200, 1, 2, 3, 546]\n"
     ]
    }
   ],
   "source": [
    "# 5.Merge the list `m = [1, 2, 3, 546]` into the list `l`.\n",
    "l=[1,22,3,44,55,6,11,1200]\n",
    "m = [1, 2, 3, 546]\n",
    "l.extend(m)\n",
    "print(l)"
   ]
  },
  {
   "cell_type": "code",
   "execution_count": 7,
   "id": "4bfc5049-f014-4322-bb24-9b89ee4b3284",
   "metadata": {},
   "outputs": [
    {
     "name": "stdout",
     "output_type": "stream",
     "text": [
      "Hello PythonWorld\n"
     ]
    }
   ],
   "source": [
    "# 1. Insert the substring `\"Python\"` at the 6th index of the string .  \n",
    "s=\"Hello World\"\n",
    "s1=s[:6]+\"Python\"+s[6:]\n",
    "print(s1)"
   ]
  },
  {
   "cell_type": "code",
   "execution_count": 8,
   "id": "c44de9a1-0ce0-47d5-87d1-b295b48e499c",
   "metadata": {},
   "outputs": [
    {
     "name": "stdout",
     "output_type": "stream",
     "text": [
      "Hello \n"
     ]
    }
   ],
   "source": [
    "# 2. Remove the substring `\"World\"` from the string `s`.\n",
    "s=\"Hello World\"\n",
    "s1=s.replace(\"World\",'')\n",
    "print(s1)\n"
   ]
  },
  {
   "cell_type": "code",
   "execution_count": 9,
   "id": "47849dad-def0-4dd8-8ed7-a55846b4bad9",
   "metadata": {},
   "outputs": [
    {
     "name": "stdout",
     "output_type": "stream",
     "text": [
      "Hello World2024\n"
     ]
    }
   ],
   "source": [
    "# 3. Append the substring `\"2024\"` to the end of the string `s`.  \n",
    "s=\"Hello World\"\n",
    "s+=\"2024\"\n",
    "print(s)\n"
   ]
  },
  {
   "cell_type": "code",
   "execution_count": 12,
   "id": "a87fe8ae-72e4-4d89-9bda-12b4647a1d64",
   "metadata": {},
   "outputs": [
    {
     "name": "stdout",
     "output_type": "stream",
     "text": [
      "Helo World\n"
     ]
    }
   ],
   "source": [
    "# 4. Remove the character at the 2nd index of the string `s`.\n",
    "s=\"Hello World\"\n",
    "s1=s[:2]+s[3:]\n",
    "print(s1)\n"
   ]
  },
  {
   "cell_type": "code",
   "execution_count": 16,
   "id": "25c4f383-2fc1-4fff-b023-7e1f0052cf2d",
   "metadata": {},
   "outputs": [
    {
     "name": "stdout",
     "output_type": "stream",
     "text": [
      "PythonProgramming\n"
     ]
    }
   ],
   "source": [
    "# 5. Concatenate the string `t = \"Programming\"` to the string `s`.\n",
    "s=\"Python\"\n",
    "t=\"Programming\"\n",
    "s+= t\n",
    "print(s)"
   ]
  },
  {
   "cell_type": "markdown",
   "id": "fccb9d58-1e62-4745-93b2-20fa2df2922c",
   "metadata": {},
   "source": [
    "# Palindrome or Not "
   ]
  },
  {
   "cell_type": "code",
   "execution_count": 8,
   "id": "ea3502b0-dae7-4f18-a613-c227c2a566d2",
   "metadata": {},
   "outputs": [
    {
     "name": "stdin",
     "output_type": "stream",
     "text": [
      "Enter the string: madam\n"
     ]
    },
    {
     "name": "stdout",
     "output_type": "stream",
     "text": [
      "madam is a palindrome\n"
     ]
    }
   ],
   "source": [
    "# 1.Write a function to check if a given string is a palindrome (reads the same forwards and backwards).\n",
    "#Example:\n",
    "#Input: \"madam\"\n",
    "#Output: True\n",
    "palindrome=input(\"Enter the string:\")\n",
    "reversed_string=palindrome[::-1]\n",
    "if reversed_string == palindrome:\n",
    "    print(palindrome,\"is a palindrome\")\n",
    "else:\n",
    "    print(palindrome,\"is not a palindrome\")\n",
    "\n"
   ]
  },
  {
   "cell_type": "code",
   "execution_count": 23,
   "id": "c2c4f819-e757-49a0-b459-cc7a30f270f9",
   "metadata": {},
   "outputs": [
    {
     "name": "stdin",
     "output_type": "stream",
     "text": [
      "Enter a input1: listen\n",
      "Enter a input2: silent\n"
     ]
    },
    {
     "name": "stdout",
     "output_type": "stream",
     "text": [
      "It is anagram\n"
     ]
    }
   ],
   "source": [
    "# Check if String is Anagram\n",
    "# Write a function to check if two strings are anagrams of each other (contain the same characters in any order).\n",
    "# Example:\n",
    "# Input: \"listen\" and \"silent\"\n",
    "# Output: True\n",
    "s1=input(\"Enter a input1:\")\n",
    "s2=input(\"Enter a input2:\")\n",
    "if len(s1)==len(s2):\n",
    "    if sorted(s1)== sorted(s2):\n",
    "        print(\"It is anagram\")\n",
    "    else:\n",
    "        print(\"It is not anagram\")\n",
    "else:\n",
    "    print(\"Invalid\")\n"
   ]
  },
  {
   "cell_type": "markdown",
   "id": "fb4096b8-5473-4490-be6b-19bf22c02887",
   "metadata": {},
   "source": [
    "# String Methods"
   ]
  },
  {
   "cell_type": "code",
   "execution_count": 28,
   "id": "6de54de1-eb00-4e6e-925d-68e3b886392e",
   "metadata": {},
   "outputs": [
    {
     "name": "stdin",
     "output_type": "stream",
     "text": [
      "Enter the string: hello world\n"
     ]
    },
    {
     "name": "stdout",
     "output_type": "stream",
     "text": [
      "Hello World\n"
     ]
    }
   ],
   "source": [
    "s=input(\"Enter the string:\")\n",
    "m=s[0].upper()+s[1:6].lower()+s[6].upper()+s[7:11].lower()\n",
    "print(m)"
   ]
  },
  {
   "cell_type": "code",
   "execution_count": 30,
   "id": "0cc01c55-8112-417e-871b-194bc104cee5",
   "metadata": {},
   "outputs": [
    {
     "name": "stdin",
     "output_type": "stream",
     "text": [
      "Enter the string: Hello World\n"
     ]
    },
    {
     "name": "stdout",
     "output_type": "stream",
     "text": [
      "hELLO wORLD\n"
     ]
    }
   ],
   "source": [
    "s=input(\"Enter the string:\")\n",
    "m=s[0].lower()+s[1:6].upper()+s[6].lower()+s[7:].upper()\n",
    "print(m)"
   ]
  },
  {
   "cell_type": "code",
   "execution_count": null,
   "id": "40d986ff-db35-402a-a70d-cd5ceca3b580",
   "metadata": {},
   "outputs": [],
   "source": []
  },
  {
   "cell_type": "code",
   "execution_count": null,
   "id": "d253e35d-3220-4d67-a704-d33aa51633c0",
   "metadata": {},
   "outputs": [],
   "source": []
  }
 ],
 "metadata": {
  "kernelspec": {
   "display_name": "Python 3 (ipykernel)",
   "language": "python",
   "name": "python3"
  },
  "language_info": {
   "codemirror_mode": {
    "name": "ipython",
    "version": 3
   },
   "file_extension": ".py",
   "mimetype": "text/x-python",
   "name": "python",
   "nbconvert_exporter": "python",
   "pygments_lexer": "ipython3",
   "version": "3.12.7"
  }
 },
 "nbformat": 4,
 "nbformat_minor": 5
}
