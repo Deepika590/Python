{
 "cells": [
  {
   "cell_type": "markdown",
   "id": "bc588d86-b94a-4ff1-89aa-cd744eb11e33",
   "metadata": {},
   "source": [
    "# 24/12/24 - Home Work"
   ]
  },
  {
   "cell_type": "markdown",
   "id": "bc2d3f9c-d621-49df-bc62-99b383ed91c7",
   "metadata": {},
   "source": [
    "# Operators"
   ]
  },
  {
   "cell_type": "markdown",
   "id": "fbee6f0d-668f-443b-8f80-26abb2863e02",
   "metadata": {},
   "source": [
    "# 4.Logical Operator"
   ]
  },
  {
   "cell_type": "code",
   "execution_count": 4,
   "id": "3e627807-edf7-48d6-8cee-31edc2043bf8",
   "metadata": {},
   "outputs": [
    {
     "name": "stdin",
     "output_type": "stream",
     "text": [
      " 30\n"
     ]
    },
    {
     "name": "stdout",
     "output_type": "stream",
     "text": [
      "True\n",
      "True\n",
      "False\n"
     ]
    }
   ],
   "source": [
    "a=int(input())\n",
    "print(a<40 and a>20)\n",
    "print(a<40 or a>20)\n",
    "print(not(a<40 or a>20))"
   ]
  },
  {
   "cell_type": "markdown",
   "id": "5d7b78b1-730f-43ae-b76c-8267cdf68835",
   "metadata": {},
   "source": [
    "# 5.Identity Operator"
   ]
  },
  {
   "cell_type": "code",
   "execution_count": 6,
   "id": "19d3fc1f-4f86-4983-8d29-a730366aa251",
   "metadata": {},
   "outputs": [
    {
     "name": "stdout",
     "output_type": "stream",
     "text": [
      "True\n",
      "False\n",
      "True\n",
      "False\n",
      "True\n"
     ]
    }
   ],
   "source": [
    "x=[\"Perfect Woman\"]\n",
    "y=[\"Perfect Woman\"]\n",
    "z=x\n",
    "print(x is z)\n",
    "print(x is y)\n",
    "print(x==y)\n",
    "print(x is not z)\n",
    "print(x is not y)"
   ]
  },
  {
   "cell_type": "markdown",
   "id": "9b9c972f-2aea-4b0e-a872-b610ce30bd08",
   "metadata": {},
   "source": [
    "# 6.Membership Operator"
   ]
  },
  {
   "cell_type": "code",
   "execution_count": 11,
   "id": "c25ad33c-01bd-4753-b6c4-98608b3dac75",
   "metadata": {},
   "outputs": [
    {
     "name": "stdout",
     "output_type": "stream",
     "text": [
      "True\n",
      "True\n",
      "False\n",
      "True\n"
     ]
    }
   ],
   "source": [
    "x=[\"Perfect Woman\"]\n",
    "y=[\"Perfect Woman\"]\n",
    "print( \"Perfect Woman\" in x)\n",
    "print( \"e\" not in x)\n",
    "print(\"Woman\" not in y)"
   ]
  },
  {
   "cell_type": "markdown",
   "id": "1b5e696c-2ebb-4c88-8f1d-27ad7c9be691",
   "metadata": {},
   "source": [
    "# 7.Bitwise Operator"
   ]
  },
  {
   "cell_type": "code",
   "execution_count": 12,
   "id": "bc21ea93-592f-4599-983a-352c3898efe7",
   "metadata": {},
   "outputs": [
    {
     "name": "stdout",
     "output_type": "stream",
     "text": [
      "0\n",
      "6\n",
      "16\n",
      "1\n"
     ]
    }
   ],
   "source": [
    "a=4  #0100 -->4\n",
    "b=2  #0010 -->2\n",
    "print(a&b)\n",
    "print(a|b)\n",
    "print(a<<2)\n",
    "print(a>>2)"
   ]
  },
  {
   "cell_type": "code",
   "execution_count": 16,
   "id": "de44d376-3652-44bf-9143-497f0dab34f4",
   "metadata": {},
   "outputs": [
    {
     "name": "stdout",
     "output_type": "stream",
     "text": [
      "6\n",
      "-6\n"
     ]
    }
   ],
   "source": [
    "#xor-->\n",
    "a=5   # Binary:0101 ---> 0110(6)\n",
    "b=3   # Binary:0011\n",
    "print(a^b)\n",
    "#Not-->\n",
    "a=5 #0101 -->-(0101+1)=-6\n",
    "print(~a)"
   ]
  },
  {
   "cell_type": "markdown",
   "id": "2d6a6191-0eb4-41d6-991a-d6b87d02782e",
   "metadata": {},
   "source": [
    "# Error "
   ]
  },
  {
   "cell_type": "markdown",
   "id": "d2acc562-b2b2-4b7f-8399-50fb25a6546d",
   "metadata": {},
   "source": [
    "# 1.Name Error"
   ]
  },
  {
   "cell_type": "code",
   "execution_count": 17,
   "id": "bd5e5319-c048-41ec-b5ca-e338589dd81f",
   "metadata": {},
   "outputs": [
    {
     "name": "stdin",
     "output_type": "stream",
     "text": [
      " \"23\"\n"
     ]
    },
    {
     "ename": "ValueError",
     "evalue": "invalid literal for int() with base 10: '\"23\"'",
     "output_type": "error",
     "traceback": [
      "\u001b[1;31m---------------------------------------------------------------------------\u001b[0m",
      "\u001b[1;31mValueError\u001b[0m                                Traceback (most recent call last)",
      "Cell \u001b[1;32mIn[17], line 1\u001b[0m\n\u001b[1;32m----> 1\u001b[0m a\u001b[38;5;241m=\u001b[39m\u001b[38;5;28mint\u001b[39m(\u001b[38;5;28minput\u001b[39m())\n\u001b[0;32m      2\u001b[0m \u001b[38;5;28mprint\u001b[39m(a)\n",
      "\u001b[1;31mValueError\u001b[0m: invalid literal for int() with base 10: '\"23\"'"
     ]
    }
   ],
   "source": [
    "a=int(input())\n",
    "print(a)"
   ]
  },
  {
   "cell_type": "code",
   "execution_count": 20,
   "id": "c174ad92-e76c-4636-8a1d-cbc3b0d51cd7",
   "metadata": {},
   "outputs": [
    {
     "ename": "NameError",
     "evalue": "name 'd' is not defined",
     "output_type": "error",
     "traceback": [
      "\u001b[1;31m---------------------------------------------------------------------------\u001b[0m",
      "\u001b[1;31mNameError\u001b[0m                                 Traceback (most recent call last)",
      "Cell \u001b[1;32mIn[20], line 2\u001b[0m\n\u001b[0;32m      1\u001b[0m a\u001b[38;5;241m=\u001b[39m\u001b[38;5;241m5\u001b[39m\n\u001b[1;32m----> 2\u001b[0m \u001b[38;5;28mprint\u001b[39m(d)\n",
      "\u001b[1;31mNameError\u001b[0m: name 'd' is not defined"
     ]
    }
   ],
   "source": [
    "a=5\n",
    "print(d)"
   ]
  },
  {
   "cell_type": "code",
   "execution_count": 21,
   "id": "47e60c87-a12b-4d3a-8de6-f4cc79cc85a3",
   "metadata": {},
   "outputs": [
    {
     "ename": "SyntaxError",
     "evalue": "invalid syntax (1472368707.py, line 2)",
     "output_type": "error",
     "traceback": [
      "\u001b[1;36m  Cell \u001b[1;32mIn[21], line 2\u001b[1;36m\u001b[0m\n\u001b[1;33m    print(a):\u001b[0m\n\u001b[1;37m            ^\u001b[0m\n\u001b[1;31mSyntaxError\u001b[0m\u001b[1;31m:\u001b[0m invalid syntax\n"
     ]
    }
   ],
   "source": [
    "aa=5\n",
    "print(a):"
   ]
  },
  {
   "cell_type": "code",
   "execution_count": 22,
   "id": "74edb36e-8235-494b-8237-ce0dcb2f4616",
   "metadata": {},
   "outputs": [
    {
     "ename": "TypeError",
     "evalue": "can only concatenate str (not \"int\") to str",
     "output_type": "error",
     "traceback": [
      "\u001b[1;31m---------------------------------------------------------------------------\u001b[0m",
      "\u001b[1;31mTypeError\u001b[0m                                 Traceback (most recent call last)",
      "Cell \u001b[1;32mIn[22], line 1\u001b[0m\n\u001b[1;32m----> 1\u001b[0m res\u001b[38;5;241m=\u001b[39m \u001b[38;5;124m\"\u001b[39m\u001b[38;5;124m12\u001b[39m\u001b[38;5;124m\"\u001b[39m\u001b[38;5;241m+\u001b[39m\u001b[38;5;241m2\u001b[39m\n\u001b[0;32m      2\u001b[0m \u001b[38;5;28mprint\u001b[39m(res)\n",
      "\u001b[1;31mTypeError\u001b[0m: can only concatenate str (not \"int\") to str"
     ]
    }
   ],
   "source": [
    "res= \"12\"+2\n",
    "print(res)"
   ]
  },
  {
   "cell_type": "code",
   "execution_count": null,
   "id": "7eeb7f9e-f2ff-4199-a1dd-a9fb429f132f",
   "metadata": {},
   "outputs": [],
   "source": []
  }
 ],
 "metadata": {
  "kernelspec": {
   "display_name": "Python 3 (ipykernel)",
   "language": "python",
   "name": "python3"
  },
  "language_info": {
   "codemirror_mode": {
    "name": "ipython",
    "version": 3
   },
   "file_extension": ".py",
   "mimetype": "text/x-python",
   "name": "python",
   "nbconvert_exporter": "python",
   "pygments_lexer": "ipython3",
   "version": "3.12.7"
  }
 },
 "nbformat": 4,
 "nbformat_minor": 5
}
