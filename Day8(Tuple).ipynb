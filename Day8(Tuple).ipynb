{
 "cells": [
  {
   "cell_type": "markdown",
   "id": "8d1d8c73-4d8d-4b67-947b-e76fe4e9d61e",
   "metadata": {},
   "source": [
    "# 30/12/24 - Task"
   ]
  },
  {
   "cell_type": "markdown",
   "id": "fad27200-d5f2-4954-89f8-8d329eba1f5c",
   "metadata": {},
   "source": [
    "# Tuple"
   ]
  },
  {
   "cell_type": "code",
   "execution_count": 1,
   "id": "ba770aba-1d90-4e14-a2f9-7250c70f522e",
   "metadata": {
    "scrolled": true
   },
   "outputs": [
    {
     "name": "stdout",
     "output_type": "stream",
     "text": [
      "(1, 2, 3, 4, 5, 6, 7, 8)\n"
     ]
    }
   ],
   "source": [
    "t=(1,2,3,4,5,6,7,8)\n",
    "print(t)"
   ]
  },
  {
   "cell_type": "code",
   "execution_count": 5,
   "id": "dfa44547-6623-42e1-b5e1-f4ca632feb52",
   "metadata": {},
   "outputs": [
    {
     "name": "stdout",
     "output_type": "stream",
     "text": [
      "(1, 2, 3, 4, 5, 6, 7, 8, 10)\n"
     ]
    }
   ],
   "source": [
    "t=(1,2,3,4,5,6,7,8)\n",
    "l=list(t)\n",
    "l.append(10)\n",
    "#print(l)\n",
    "t1=tuple(l)\n",
    "print(t1)"
   ]
  },
  {
   "cell_type": "code",
   "execution_count": 7,
   "id": "6ded6cac-8ac5-4166-bedf-96bf98eb0724",
   "metadata": {},
   "outputs": [
    {
     "name": "stdout",
     "output_type": "stream",
     "text": [
      "4\n"
     ]
    }
   ],
   "source": [
    "t=(1,2,3,4,5,6,7,8)\n",
    "m=t.index(5)\n",
    "print(m)\n",
    "\n"
   ]
  },
  {
   "cell_type": "code",
   "execution_count": 11,
   "id": "d3cb8513-3143-42b2-affd-784f7015c20c",
   "metadata": {},
   "outputs": [
    {
     "name": "stdout",
     "output_type": "stream",
     "text": [
      "2\n"
     ]
    }
   ],
   "source": [
    "t=(1,2,3,4,5,6,7,8,2,5)\n",
    "m=t.count(2)\n",
    "print(2)"
   ]
  },
  {
   "cell_type": "code",
   "execution_count": null,
   "id": "de2875fe-6a78-48fb-9490-d1c6c4622868",
   "metadata": {},
   "outputs": [],
   "source": []
  }
 ],
 "metadata": {
  "kernelspec": {
   "display_name": "Python 3 (ipykernel)",
   "language": "python",
   "name": "python3"
  },
  "language_info": {
   "codemirror_mode": {
    "name": "ipython",
    "version": 3
   },
   "file_extension": ".py",
   "mimetype": "text/x-python",
   "name": "python",
   "nbconvert_exporter": "python",
   "pygments_lexer": "ipython3",
   "version": "3.12.7"
  }
 },
 "nbformat": 4,
 "nbformat_minor": 5
}
