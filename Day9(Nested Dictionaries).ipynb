{
 "cells": [
  {
   "cell_type": "markdown",
   "id": "3ac48af3-9673-4244-b351-3e92630b1d87",
   "metadata": {},
   "source": [
    "# 02/01/25 - Task"
   ]
  },
  {
   "cell_type": "markdown",
   "id": "b56ec8e0-807c-4833-a27a-591fa378f697",
   "metadata": {},
   "source": [
    "# Nested Dictionaries"
   ]
  },
  {
   "cell_type": "code",
   "execution_count": 8,
   "id": "2d4393a3-aa99-4386-b465-4ef9a605c091",
   "metadata": {},
   "outputs": [
    {
     "name": "stdout",
     "output_type": "stream",
     "text": [
      "{'student1': {'Name': 'John', 'Age': 20, 'Gender': 'Male', 'Total Marks': 456}, 'student2': {'Name': 'Raja', 'Age': 19, 'Gender': 'Male', 'Total Marks': 488}, 'student3': {'Name': 'Raj', 'Age': 19, 'Gender': 'Male', 'Total Marks': 476}}\n"
     ]
    }
   ],
   "source": [
    "mydict = {\n",
    "    \"student1\" : {\"Name\":\"John\",\"Age\":20,\"Gender\":\"Male\",\"Total Marks\":456},\n",
    "    \"student2\" : {\"Name\":\"Raja\",\"Age\":19,\"Gender\":\"Male\",\"Total Marks\":488},\n",
    "    \"student3\" : {\"Name\":\"Raj\",\"Age\":19,\"Gender\":\"Male\",\"Total Marks\":476}}\n",
    "print(mydict)\n",
    "    "
   ]
  },
  {
   "cell_type": "code",
   "execution_count": 8,
   "id": "46d79cc6-3b68-45d1-959e-c9652f742212",
   "metadata": {},
   "outputs": [
    {
     "name": "stdout",
     "output_type": "stream",
     "text": [
      "{'student1': {'Name': 'John', 'Age': 20, 'Gender': 'Male'}, 'student2': {'Name': 'Raja', 'Age': 20, 'Gender': 'Male', 'Total Marks': 488}, 'student3': {'Name': 'kalai', 'Age': 24, 'Gender': 'Male', 'Total Marks': 498}}\n"
     ]
    }
   ],
   "source": [
    "mydict = {\n",
    "    \"student1\" : {\"Name\":\"John\",\"Age\":20,\"Gender\":\"Male\",\"Total Marks\":456},\n",
    "    \"student2\" : {\"Name\":\"Raja\",\"Age\":19,\"Gender\":\"Male\",\"Total Marks\":488}\n",
    "}\n",
    "mydict['student3']={'Name':'kalai','Age':24,'Gender':'Male','Total Marks':498} #Add the value\n",
    "#print(mydict)\n",
    "mydict['student2']['Age']=20 #Update the value(change the value)\n",
    "#print(mydict['student2'])\n",
    "del mydict['student1']['Total Marks'] #Remove the specified value\n",
    "print(mydict)   \n"
   ]
  },
  {
   "cell_type": "code",
   "execution_count": 9,
   "id": "5e49e80f-8dc4-4b80-bbd9-3dcb9c786fcf",
   "metadata": {},
   "outputs": [
    {
     "name": "stdout",
     "output_type": "stream",
     "text": [
      "{}\n"
     ]
    }
   ],
   "source": [
    "mydict = {\n",
    "    \"student1\" : {\"Name\":\"John\",\"Age\":20,\"Gender\":\"Male\",\"Total Marks\":456},\n",
    "    \"student2\" : {\"Name\":\"Raja\",\"Age\":19,\"Gender\":\"Male\",\"Total Marks\":488}\n",
    "}\n",
    "mydict.clear()  # Remove all items in dictionariess\n",
    "print(mydict)"
   ]
  },
  {
   "cell_type": "code",
   "execution_count": 4,
   "id": "1debd7ac-78c2-4399-81f7-062d0e52b432",
   "metadata": {},
   "outputs": [
    {
     "data": {
      "text/plain": [
       "{'stu1': {'Tamil': 98,\n",
       "  'English': 89,\n",
       "  'Maths': 86,\n",
       "  'Chemistry': 92,\n",
       "  'Physics': 90},\n",
       " 'stu2': {'Tamil': 91,\n",
       "  'English': 79,\n",
       "  'Maths': 81,\n",
       "  'Chemistry': 82,\n",
       "  'Physics': 89}}"
      ]
     },
     "execution_count": 4,
     "metadata": {},
     "output_type": "execute_result"
    }
   ],
   "source": [
    "mark={\n",
    "    'stu1':{'Tamil':98,'English':89,'Maths':86,'Chemistry':92,'Physics':90},\n",
    "    'stu2':{'Tamil':91,'English':79,'Maths':81,'Chemistry':82,'Physics':89},\n",
    "}\n",
    "print(mark)"
   ]
  },
  {
   "cell_type": "code",
   "execution_count": null,
   "id": "cf411215-3ae9-4c0d-a121-3f98c17e0ee8",
   "metadata": {},
   "outputs": [],
   "source": []
  }
 ],
 "metadata": {
  "kernelspec": {
   "display_name": "Python 3 (ipykernel)",
   "language": "python",
   "name": "python3"
  },
  "language_info": {
   "codemirror_mode": {
    "name": "ipython",
    "version": 3
   },
   "file_extension": ".py",
   "mimetype": "text/x-python",
   "name": "python",
   "nbconvert_exporter": "python",
   "pygments_lexer": "ipython3",
   "version": "3.12.7"
  }
 },
 "nbformat": 4,
 "nbformat_minor": 5
}
