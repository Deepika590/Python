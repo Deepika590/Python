{
 "cells": [
  {
   "cell_type": "markdown",
   "id": "a571d7de-9dd0-4569-bd62-f2fc6f9a1d72",
   "metadata": {},
   "source": [
    "# 23/01/25 - File Handling"
   ]
  },
  {
   "cell_type": "markdown",
   "id": "29660f17-24b1-4884-8985-509ce09ac352",
   "metadata": {},
   "source": [
    "# Example 1"
   ]
  },
  {
   "cell_type": "code",
   "execution_count": 10,
   "id": "09e3a6e9-8ee1-4128-bf26-60464bad9d90",
   "metadata": {},
   "outputs": [
    {
     "data": {
      "text/plain": [
       "'Welcome'"
      ]
     },
     "execution_count": 10,
     "metadata": {},
     "output_type": "execute_result"
    }
   ],
   "source": [
    "# r-read\n",
    "# a-append\n",
    "# w-write\n",
    "# x-create\n",
    "f=open(\"file.txt\",\"r\")\n",
    "f.read()"
   ]
  },
  {
   "cell_type": "code",
   "execution_count": 12,
   "id": "93bcfe29-a51c-4bab-857c-909a301c3c5a",
   "metadata": {},
   "outputs": [],
   "source": [
    "f=open(\"file.txt\",\"a\")\n",
    "f.write(\"to python course\")\n",
    "f.close()"
   ]
  },
  {
   "cell_type": "code",
   "execution_count": 16,
   "id": "82b569a2-8ec2-49c7-b1bd-7eb21a823eff",
   "metadata": {},
   "outputs": [],
   "source": [
    "f=open(\"file.txt\",\"w\")\n",
    "f.write(\"I am very happy\")\n",
    "f.close()"
   ]
  },
  {
   "cell_type": "code",
   "execution_count": 17,
   "id": "99d13060-ee75-4d1e-82ed-a1d1c2361bd3",
   "metadata": {},
   "outputs": [
    {
     "data": {
      "text/plain": [
       "'I am very happy'"
      ]
     },
     "execution_count": 17,
     "metadata": {},
     "output_type": "execute_result"
    }
   ],
   "source": [
    "f=open(\"file.txt\",\"r\")\n",
    "f.read()"
   ]
  },
  {
   "cell_type": "markdown",
   "id": "5c2d2526-77ad-4c80-9727-435da064e8b6",
   "metadata": {},
   "source": [
    "# Example 2"
   ]
  },
  {
   "cell_type": "code",
   "execution_count": 18,
   "id": "a120c619-7376-4d4b-aaee-29fb43021143",
   "metadata": {},
   "outputs": [],
   "source": [
    "f=open(\"file1.txt\",\"x\")  # create"
   ]
  },
  {
   "cell_type": "code",
   "execution_count": 47,
   "id": "4ccb95df-07f1-45dc-a193-2ef29979197e",
   "metadata": {},
   "outputs": [
    {
     "data": {
      "text/plain": [
       "'Welcome to the python course'"
      ]
     },
     "execution_count": 47,
     "metadata": {},
     "output_type": "execute_result"
    }
   ],
   "source": [
    "f=open(\"file1.txt\",\"r\") # read\n",
    "f.read()"
   ]
  },
  {
   "cell_type": "code",
   "execution_count": 49,
   "id": "4c239e35-0321-4c41-9940-aeec8bb434b3",
   "metadata": {},
   "outputs": [
    {
     "data": {
      "text/plain": [
       "'Welc'"
      ]
     },
     "execution_count": 49,
     "metadata": {},
     "output_type": "execute_result"
    }
   ],
   "source": [
    "f=open(\"file1.txt\",\"r\") # read\n",
    "f.read(4)"
   ]
  },
  {
   "cell_type": "code",
   "execution_count": 50,
   "id": "8bec25a1-7f75-41e5-9f2f-9fe46c141c69",
   "metadata": {},
   "outputs": [
    {
     "data": {
      "text/plain": [
       "'Welcome to the python course'"
      ]
     },
     "execution_count": 50,
     "metadata": {},
     "output_type": "execute_result"
    }
   ],
   "source": [
    "f=open(\"file1.txt\",\"r\") # readline\n",
    "f.readline()"
   ]
  },
  {
   "cell_type": "code",
   "execution_count": 51,
   "id": "43463aac-9962-413a-b565-d8e9ff52bcdb",
   "metadata": {},
   "outputs": [],
   "source": [
    "f=open(\"file1.txt\",\"a\") # write\n",
    "f.write(\"A cornerstone of epic fantasy, this trilogy follows Frodo Baggins and the Fellowship as they seek to destroy the One\")\n",
    "f.close()"
   ]
  },
  {
   "cell_type": "code",
   "execution_count": 52,
   "id": "e03da751-d0f1-4aec-87d6-6a6976f7da29",
   "metadata": {},
   "outputs": [],
   "source": [
    "f=open(\"file1.txt\",\"w\") # write\n",
    "f.write(\"A cornerstone of epic fantasy,thanks ok\")\n",
    "f.close()"
   ]
  },
  {
   "cell_type": "code",
   "execution_count": 53,
   "id": "75e26b40-49a0-495b-8a0e-5555644bdf21",
   "metadata": {},
   "outputs": [
    {
     "data": {
      "text/plain": [
       "'A cornerstone of epic fantasy,thanks ok'"
      ]
     },
     "execution_count": 53,
     "metadata": {},
     "output_type": "execute_result"
    }
   ],
   "source": [
    "f=open(\"file1.txt\",\"r\") # read\n",
    "f.read()"
   ]
  },
  {
   "cell_type": "markdown",
   "id": "0f1abfea-c481-4a66-98cb-4d33dee54239",
   "metadata": {},
   "source": [
    "# Example 3"
   ]
  },
  {
   "cell_type": "code",
   "execution_count": 54,
   "id": "ed2105c3-60ab-440b-ba8b-22bdbbe16c69",
   "metadata": {},
   "outputs": [],
   "source": [
    "file=open('file2.txt','x')"
   ]
  },
  {
   "cell_type": "code",
   "execution_count": 2,
   "id": "6c78cece-bfbd-4c7f-8d65-e19c0785e0fe",
   "metadata": {},
   "outputs": [
    {
     "data": {
      "text/plain": [
       "'Jackfruit'"
      ]
     },
     "execution_count": 2,
     "metadata": {},
     "output_type": "execute_result"
    }
   ],
   "source": [
    "file=open('file2.txt','r')\n",
    "file.read()"
   ]
  },
  {
   "cell_type": "code",
   "execution_count": 3,
   "id": "92930888-f85b-4633-94da-21fff4180b5a",
   "metadata": {},
   "outputs": [
    {
     "data": {
      "text/plain": [
       "'Jackfruit'"
      ]
     },
     "execution_count": 3,
     "metadata": {},
     "output_type": "execute_result"
    }
   ],
   "source": [
    "file=open('file2.txt','r')\n",
    "file.readline()"
   ]
  },
  {
   "cell_type": "code",
   "execution_count": 57,
   "id": "47633a48-5616-4a37-b30d-3842aef87e1c",
   "metadata": {},
   "outputs": [],
   "source": [
    "file=open('file2.txt','a')\n",
    "file.write(\"Jackfruit\")\n",
    "file.close()"
   ]
  },
  {
   "cell_type": "code",
   "execution_count": 58,
   "id": "f59538a7-3510-40ed-8181-fb50e9015bb3",
   "metadata": {},
   "outputs": [],
   "source": [
    "file=open('file2.txt','w')\n",
    "file.write(\"Jackfruit\")\n",
    "file.close()"
   ]
  },
  {
   "cell_type": "markdown",
   "id": "cacf335b-9a89-4683-a733-cdd4bf4dbb0a",
   "metadata": {},
   "source": [
    "# Example 4\n"
   ]
  },
  {
   "cell_type": "code",
   "execution_count": 9,
   "id": "bd9a473b-a7a1-49bd-946f-f2dbaf4dfe69",
   "metadata": {},
   "outputs": [
    {
     "data": {
      "text/plain": [
       "'1.hi how are you!\\n2.good morning!\\n3.hello world!\\n4.python programmming\\n'"
      ]
     },
     "execution_count": 9,
     "metadata": {},
     "output_type": "execute_result"
    }
   ],
   "source": [
    "file=open(\"D:/Python/task.txt\",\"r\")\n",
    "file.read()"
   ]
  },
  {
   "cell_type": "code",
   "execution_count": 11,
   "id": "5aaab109-d7d4-4435-ae2e-fd9e3b8579ca",
   "metadata": {},
   "outputs": [
    {
     "data": {
      "text/plain": [
       "'1.hi how are you!\\n'"
      ]
     },
     "execution_count": 11,
     "metadata": {},
     "output_type": "execute_result"
    }
   ],
   "source": [
    "file=open(\"D:/Python/task.txt\",\"r\")\n",
    "file.readline()"
   ]
  },
  {
   "cell_type": "code",
   "execution_count": null,
   "id": "466d6fd6-e453-4e77-8c88-72df475f2329",
   "metadata": {},
   "outputs": [],
   "source": []
  }
 ],
 "metadata": {
  "kernelspec": {
   "display_name": "Python 3 (ipykernel)",
   "language": "python",
   "name": "python3"
  },
  "language_info": {
   "codemirror_mode": {
    "name": "ipython",
    "version": 3
   },
   "file_extension": ".py",
   "mimetype": "text/x-python",
   "name": "python",
   "nbconvert_exporter": "python",
   "pygments_lexer": "ipython3",
   "version": "3.12.7"
  }
 },
 "nbformat": 4,
 "nbformat_minor": 5
}
