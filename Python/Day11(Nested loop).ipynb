{
 "cells": [
  {
   "cell_type": "markdown",
   "id": "1d8b2868-a5b6-46d1-93b2-52a8231bdf3b",
   "metadata": {},
   "source": [
    "# 06/01/25 - Task"
   ]
  },
  {
   "cell_type": "code",
   "execution_count": 3,
   "id": "afcd23e9-2670-458f-9ad3-4081668fb565",
   "metadata": {},
   "outputs": [
    {
     "name": "stdout",
     "output_type": "stream",
     "text": [
      "Ascending Order: [1, 1, 2, 3, 5, 10, 16, 18]\n"
     ]
    }
   ],
   "source": [
    "L = [1, 2, 3, 10, 5, 16, 18,1]\n",
    "for i in range(len(L)): \n",
    "    for j in range(i+1,len(L)):\n",
    "         if L[i] >= L[j ]:\n",
    "            L[j], L[i] = L[i], L[j]\n",
    "\n",
    "print(\"Ascending Order:\", L)\n",
    "\n"
   ]
  },
  {
   "cell_type": "code",
   "execution_count": 2,
   "id": "bc658a9b-aa0e-4248-8afa-58390e39d996",
   "metadata": {},
   "outputs": [
    {
     "name": "stdout",
     "output_type": "stream",
     "text": [
      "Descending Order: [18, 16, 10, 5, 3, 2, 1]\n"
     ]
    }
   ],
   "source": [
    "L = [1, 2, 3, 10, 5, 16, 18]\n",
    "for i in range(len(L)): \n",
    "    for j in range(i+1,len(L)):\n",
    "         if L[i] <= L[j ]:\n",
    "            L[j], L[i] = L[i], L[j]\n",
    "\n",
    "print(\"Descending Order:\", L)"
   ]
  },
  {
   "cell_type": "code",
   "execution_count": null,
   "id": "ba7c2b17-d132-4ba5-a4aa-d0d5d2ff1e02",
   "metadata": {},
   "outputs": [],
   "source": []
  }
 ],
 "metadata": {
  "kernelspec": {
   "display_name": "Python 3 (ipykernel)",
   "language": "python",
   "name": "python3"
  },
  "language_info": {
   "codemirror_mode": {
    "name": "ipython",
    "version": 3
   },
   "file_extension": ".py",
   "mimetype": "text/x-python",
   "name": "python",
   "nbconvert_exporter": "python",
   "pygments_lexer": "ipython3",
   "version": "3.12.7"
  }
 },
 "nbformat": 4,
 "nbformat_minor": 5
}
