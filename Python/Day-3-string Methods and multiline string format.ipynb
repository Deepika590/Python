{
 "cells": [
  {
   "cell_type": "markdown",
   "id": "bc3d7902-f574-4b43-8924-93c215e6608c",
   "metadata": {},
   "source": [
    "# 20/12/24 - Home Work"
   ]
  },
  {
   "cell_type": "markdown",
   "id": "b76b1c4d-1995-4b84-a1f5-35b70c0bae34",
   "metadata": {},
   "source": [
    "# String Mehtods|"
   ]
  },
  {
   "cell_type": "code",
   "execution_count": 2,
   "id": "37f857b6-00b5-4085-8929-c2a7d2574178",
   "metadata": {},
   "outputs": [
    {
     "name": "stdout",
     "output_type": "stream",
     "text": [
      "Believe yourself\n",
      "BELIEVE YOURSELF\n",
      "believe yourself\n",
      "Believe Yourself\n",
      "beLIEVE YOURSELF\n",
      "believe yourself\n",
      "1\n",
      "True\n",
      "8\n",
      "8\n",
      "BElieve Myself\n",
      "False\n",
      "Hello World\n",
      "Hello World   \n",
      "  Hello World\n",
      "['BElieve', 'yourself']\n",
      "True\n",
      "False\n",
      "True\n"
     ]
    }
   ],
   "source": [
    "# Case Conversion\n",
    "k=\"BElieve yourself\"\n",
    "print(k.capitalize())\n",
    "print(k.upper())\n",
    "print(k.lower())\n",
    "print(k.title())\n",
    "print(k.swapcase()) #string convert into lower case to upperrcase\n",
    "print(k.casefold()) #uppercase to lower case\n",
    "print(k.count(\"yourself\"))\n",
    "print(k.endswith(\"f\"))\n",
    "print(k.find(\"yourself\"))\n",
    "print(k.index(\"y\"))\n",
    "print(k.replace(\"yourself\",\"Myself\"))\n",
    "print(k.startswith(\"Believe\"))\n",
    "m=\"  Hello World   \"\n",
    "print(m.strip())\n",
    "print(m.lstrip())\n",
    "print(m.rstrip())\n",
    "print(k.split())\n",
    "result=\"welcome\"\n",
    "print(result.isalpha())\n",
    "print(result.isdigit())\n",
    "print(result.isalnum())\n",
    "\n",
    "\n",
    "\n",
    "\n"
   ]
  },
  {
   "cell_type": "markdown",
   "id": "61771722-6e8f-4cca-9189-59d07803c320",
   "metadata": {},
   "source": [
    "# String Formatting Multiline  String"
   ]
  },
  {
   "cell_type": "code",
   "execution_count": 22,
   "id": "2b322c27-5bbe-449c-946e-a194717815d5",
   "metadata": {},
   "outputs": [
    {
     "name": "stdin",
     "output_type": "stream",
     "text": [
      "Enter Name: Roshan\n",
      "Enter Study: Bsc ComputerScience\n",
      "Enter City: Chennai\n",
      "Enter Favourite Color: Blue\n",
      "Enter your : Python FullStack\n"
     ]
    },
    {
     "name": "stdout",
     "output_type": "stream",
     "text": [
      "I am Roshan , from Chennai and \n",
      "I completed by graduate Bsc ComputerScience\n",
      "and my favourite color is Blue \n",
      "and I  am currently studying Python FullStack\n"
     ]
    }
   ],
   "source": [
    "a=input(\"Enter Name:\")\n",
    "b=input(\"Enter Study:\")\n",
    "c=input(\"Enter City:\")\n",
    "d=input(\"Enter Favourite Color:\")\n",
    "e=input(\"Enter your :\")\n",
    "k= f\"\"\"I am {a} , from {c} and \n",
    "I completed by graduate {b}\n",
    "and my favourite color is {d} \n",
    "and I  am currently studying {e}\"\"\"\n",
    "print(k)\n"
   ]
  },
  {
   "cell_type": "code",
   "execution_count": null,
   "id": "e90b113e-299c-45f9-8736-174fa92d12ef",
   "metadata": {},
   "outputs": [],
   "source": []
  }
 ],
 "metadata": {
  "kernelspec": {
   "display_name": "Python 3 (ipykernel)",
   "language": "python",
   "name": "python3"
  },
  "language_info": {
   "codemirror_mode": {
    "name": "ipython",
    "version": 3
   },
   "file_extension": ".py",
   "mimetype": "text/x-python",
   "name": "python",
   "nbconvert_exporter": "python",
   "pygments_lexer": "ipython3",
   "version": "3.12.7"
  }
 },
 "nbformat": 4,
 "nbformat_minor": 5
}
