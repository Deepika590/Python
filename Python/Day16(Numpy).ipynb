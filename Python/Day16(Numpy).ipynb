{
 "cells": [
  {
   "cell_type": "markdown",
   "id": "9668449e-8cfc-4774-923f-49a979cef44f",
   "metadata": {},
   "source": [
    "# 24/01/25 - Numpy "
   ]
  },
  {
   "cell_type": "code",
   "execution_count": 2,
   "id": "f458a3f5-32e8-4055-9a8d-5e01ff8f0046",
   "metadata": {},
   "outputs": [
    {
     "name": "stdout",
     "output_type": "stream",
     "text": [
      "[1 2 3 4 5]\n"
     ]
    }
   ],
   "source": [
    "import numpy as np\n",
    "a=np.array([1,2,3,4,5])\n",
    "print(a)"
   ]
  },
  {
   "cell_type": "code",
   "execution_count": 3,
   "id": "1c84a664-83eb-4038-bdf2-ce28152c861e",
   "metadata": {},
   "outputs": [
    {
     "name": "stdout",
     "output_type": "stream",
     "text": [
      "1.26.4\n"
     ]
    }
   ],
   "source": [
    "print(np.__version__)"
   ]
  },
  {
   "cell_type": "markdown",
   "id": "6e166772-9924-416e-825c-1d81fd1b2261",
   "metadata": {},
   "source": [
    "# Dimensions array"
   ]
  },
  {
   "cell_type": "code",
   "execution_count": 4,
   "id": "fc8d6a56-cf17-48a4-b63b-16b6107abace",
   "metadata": {},
   "outputs": [
    {
     "name": "stdout",
     "output_type": "stream",
     "text": [
      "45\n"
     ]
    }
   ],
   "source": [
    "# 1. 0-dimensional array\n",
    "a=np.array(45)\n",
    "print(a)"
   ]
  },
  {
   "cell_type": "code",
   "execution_count": 5,
   "id": "7c91fd79-a747-40c4-a2ab-4cba0754034d",
   "metadata": {},
   "outputs": [
    {
     "name": "stdout",
     "output_type": "stream",
     "text": [
      "[1 2 3 4 5 6 7]\n"
     ]
    }
   ],
   "source": [
    "# 2. 1-dimensional array\n",
    "a=np.array([1,2,3,4,5,6,7,])\n",
    "print(a)"
   ]
  },
  {
   "cell_type": "code",
   "execution_count": 8,
   "id": "97b18812-64b9-4523-b2e3-0564db3ab7b6",
   "metadata": {},
   "outputs": [
    {
     "name": "stdout",
     "output_type": "stream",
     "text": [
      "[[4 5 6 7 7]\n",
      " [2 5 7 9 0]]\n"
     ]
    }
   ],
   "source": [
    "#. 2-dimensional array\n",
    "a=np.array([[4,5,6,7,7],[2,5,7,9,0]])\n",
    "print(a)"
   ]
  },
  {
   "cell_type": "code",
   "execution_count": 9,
   "id": "67c7bdc6-d63e-4ed2-8974-fd6ec4bd39f9",
   "metadata": {},
   "outputs": [
    {
     "name": "stdout",
     "output_type": "stream",
     "text": [
      "[[[ 1  2  3]\n",
      "  [ 4  5  6]]\n",
      "\n",
      " [[ 6  7  8]\n",
      "  [ 9 10 11]]\n",
      "\n",
      " [[12 13 14]\n",
      "  [15 16 17]]]\n"
     ]
    }
   ],
   "source": [
    "# 4.3-dimensional array\n",
    "a=np.array([[[1,2,3],[4,5,6]],[[6,7,8],[9,10,11]],[[12,13,14],[15,16,17]]])\n",
    "print(a)"
   ]
  },
  {
   "cell_type": "markdown",
   "id": "e2e22aae-7355-4d17-b116-042a25036659",
   "metadata": {},
   "source": [
    "# Numpy indexing"
   ]
  },
  {
   "cell_type": "code",
   "execution_count": 10,
   "id": "06dc1d4d-5d8a-489e-b784-c5e87ce1a126",
   "metadata": {},
   "outputs": [
    {
     "name": "stdout",
     "output_type": "stream",
     "text": [
      "3\n"
     ]
    }
   ],
   "source": [
    "a=np.array([1,2,3,4,5,6,7,])\n",
    "print(a[2])"
   ]
  },
  {
   "cell_type": "code",
   "execution_count": 26,
   "id": "3a833a1d-4f14-4ae9-b9b7-aabf5341eebe",
   "metadata": {},
   "outputs": [
    {
     "name": "stdout",
     "output_type": "stream",
     "text": [
      "7 6\n"
     ]
    }
   ],
   "source": [
    "a=np.array([[4,5,6,7,7],[2,5,7,9,0]])\n",
    "print(a[1,2],a[0,2])\n"
   ]
  },
  {
   "cell_type": "code",
   "execution_count": 21,
   "id": "fa3625c2-ba9d-4894-8654-5eb651ac8a1b",
   "metadata": {},
   "outputs": [
    {
     "name": "stdout",
     "output_type": "stream",
     "text": [
      "14 11\n"
     ]
    }
   ],
   "source": [
    "a=np.array([[[1,2,3],[4,5,6]],[[6,7,8],[9,10,11]],[[12,13,14],[15,16,17]]])\n",
    "print(a[2,0,2],a[1,1,2])"
   ]
  },
  {
   "cell_type": "markdown",
   "id": "bf0adc9a-ef44-4b57-9c56-a95c21c35be6",
   "metadata": {},
   "source": [
    "# Slicing"
   ]
  },
  {
   "cell_type": "code",
   "execution_count": 3,
   "id": "7106fee7-89ed-4e63-a71d-0aa0b96b0050",
   "metadata": {},
   "outputs": [
    {
     "name": "stdout",
     "output_type": "stream",
     "text": [
      "[5 7 9]\n"
     ]
    }
   ],
   "source": [
    "import numpy as np\n",
    "a=np.array([[4,5,6,7,7],[2,5,7,9,0]])\n",
    "print(a[1,1:4])"
   ]
  },
  {
   "cell_type": "code",
   "execution_count": 15,
   "id": "6be0c25f-e592-41c5-bc17-656c9b965d5f",
   "metadata": {},
   "outputs": [
    {
     "name": "stdout",
     "output_type": "stream",
     "text": [
      "[5 7 9] [1 2 3 4] [53 42 17]\n"
     ]
    }
   ],
   "source": [
    "a=np.array([[[4,5,6,7,8],[2,5,7,9,0]],[[1,2,3,4,5],[6,7,8,9,10]],[[12,45,67,83,25],[23,53,42,17,13]]])\n",
    "print(a[0,1,1:4],a[1,0,0:4],a[2,1,-4:-1])"
   ]
  },
  {
   "cell_type": "code",
   "execution_count": 21,
   "id": "f0fdf8d6-ecb3-4cda-b90a-af7ce8c433b9",
   "metadata": {},
   "outputs": [
    {
     "name": "stdout",
     "output_type": "stream",
     "text": [
      "Slicing: [45 67 89] [2 3 4 5] [34]\n"
     ]
    }
   ],
   "source": [
    "a=np.array([[1,2,3,4,5],[23,45,67,89,12],[9,8,34,21,18]])\n",
    "print(\"Slicing:\",a[1,1:4],a[0,1:],a[2,2:3])"
   ]
  },
  {
   "cell_type": "code",
   "execution_count": null,
   "id": "91447c8c-a943-4436-98d4-cd02db672818",
   "metadata": {},
   "outputs": [],
   "source": []
  }
 ],
 "metadata": {
  "kernelspec": {
   "display_name": "Python 3 (ipykernel)",
   "language": "python",
   "name": "python3"
  },
  "language_info": {
   "codemirror_mode": {
    "name": "ipython",
    "version": 3
   },
   "file_extension": ".py",
   "mimetype": "text/x-python",
   "name": "python",
   "nbconvert_exporter": "python",
   "pygments_lexer": "ipython3",
   "version": "3.12.7"
  }
 },
 "nbformat": 4,
 "nbformat_minor": 5
}
