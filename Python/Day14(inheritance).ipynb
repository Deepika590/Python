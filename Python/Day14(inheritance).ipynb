{
 "cells": [
  {
   "cell_type": "markdown",
   "id": "0372b4bc-9e14-484a-a720-96eca214d236",
   "metadata": {},
   "source": [
    "# 20/01/25 - Inheritance"
   ]
  },
  {
   "cell_type": "code",
   "execution_count": 7,
   "id": "f37920d9-6ef5-43f1-b8d3-c33955badf6f",
   "metadata": {},
   "outputs": [
    {
     "name": "stdout",
     "output_type": "stream",
     "text": [
      "Welcome to the office1\n",
      "Welcome to the office2\n"
     ]
    }
   ],
   "source": [
    "# single inheritance  -->one function to another function parameter passing\n",
    "cla vvvvss hr():\n",
    "    def emp1(self):\n",
    "        print(\"Welcome to the office1\")   \n",
    "class manager(hr):\n",
    "    def emp2(self):\n",
    "        print(\"Welcome to the office2\")\n",
    "res=manager()\n",
    "res.emp1()\n",
    "res.emp2()\n",
    "\n"
   ]
  },
  {
   "cell_type": "code",
   "execution_count": 10,
   "id": "ac2da43f-f39e-4a25-92e0-2f85e93c6495",
   "metadata": {},
   "outputs": [
    {
     "name": "stdout",
     "output_type": "stream",
     "text": [
      "Welcome to the office1\n",
      "Welcome to the office2\n",
      "Welcome to the office3\n"
     ]
    }
   ],
   "source": [
    "# Multiple inheritance\n",
    "class hr():\n",
    "    def emp1(self):\n",
    "        print(\"Welcome to the office1\")\n",
    "class manager():\n",
    "    def emp2(self):\n",
    "        print(\"Welcome to the office2\")\n",
    "class developer(hr,manager):\n",
    "    def emp3(self):\n",
    "        print(\"Welcome to the office3\")\n",
    "res=developer()\n",
    "res.emp1()\n",
    "res.emp2()\n",
    "res.emp3()"
   ]
  },
  {
   "cell_type": "code",
   "execution_count": 16,
   "id": "ab946245-9358-43fe-933b-a664e1e03cba",
   "metadata": {},
   "outputs": [
    {
     "name": "stdout",
     "output_type": "stream",
     "text": [
      "Welcome to the office2\n",
      "Welcome to the office1\n",
      "Welcome to the office1\n"
     ]
    }
   ],
   "source": [
    "# multilevel inheritance\n",
    "class hr():\n",
    "    def emp1(self):\n",
    "        print(\"Welcome to the office1\")\n",
    "class manager(hr):\n",
    "    def emp2(self):\n",
    "        print(\"Welcome to the office2\")\n",
    "class developer(manager):\n",
    "    def emp3(self):\n",
    "        print(\"Welcome to the office3\")\n",
    "res=developer()\n",
    "res.emp2()\n",
    "res.emp1()\n",
    "res1=manager()\n",
    "res1.emp1()"
   ]
  },
  {
   "cell_type": "code",
   "execution_count": 3,
   "id": "bcd93ee5-e534-4377-99de-06202a726afe",
   "metadata": {},
   "outputs": [
    {
     "name": "stdout",
     "output_type": "stream",
     "text": [
      "Good work for all employees\n"
     ]
    }
   ],
   "source": [
    "# Hierarchical inheritance \n",
    "class manager():\n",
    "    def msg(self):\n",
    "        print(\"Good work for all employees\")\n",
    "class emp1(manager):\n",
    "    pass\n",
    "class emp2(manager):\n",
    "    pass\n",
    "class emp3(manager):\n",
    "    pass\n",
    "res=emp3()\n",
    "res.msg()\n",
    "\n",
    "\n"
   ]
  },
  {
   "cell_type": "code",
   "execution_count": 6,
   "id": "72514ad5-daad-493a-816b-d2cd149c9d57",
   "metadata": {},
   "outputs": [
    {
     "name": "stdout",
     "output_type": "stream",
     "text": [
      "Good work\n",
      "Thank you\n",
      "Thank you\n"
     ]
    }
   ],
   "source": [
    "# Hybrid inheritance\n",
    "class hr():\n",
    "    def msg1(self):\n",
    "        print(\"Good work\")\n",
    "class manager():\n",
    "    def msg2(self):\n",
    "        print(\"Thank you\")\n",
    "class emp1(hr,manager):\n",
    "    pass\n",
    "class emp2(manager):\n",
    "    pass\n",
    "class emp3(manager):\n",
    "    pass\n",
    "res=emp1()\n",
    "res.msg1()\n",
    "res.msg2()"
   ]
  },
  {
   "cell_type": "code",
   "execution_count": null,
   "id": "837c662a-4218-4ffa-bd1b-34a35633700f",
   "metadata": {},
   "outputs": [],
   "source": []
  }
 ],
 "metadata": {
  "kernelspec": {
   "display_name": "Python 3 (ipykernel)",
   "language": "python",
   "name": "python3"
  },
  "language_info": {
   "codemirror_mode": {
    "name": "ipython",
    "version": 3
   },
   "file_extension": ".py",
   "mimetype": "text/x-python",
   "name": "python",
   "nbconvert_exporter": "python",
   "pygments_lexer": "ipython3",
   "version": "3.12.7"
  }
 },
 "nbformat": 4,
 "nbformat_minor": 5
}
