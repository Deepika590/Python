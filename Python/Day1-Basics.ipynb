{
 "cells": [
  {
   "cell_type": "markdown",
   "id": "78ff9a04-04dd-45dd-abbb-c2e488f75ea3",
   "metadata": {},
   "source": [
    "### 18/12/24 - Home Work"
   ]
  },
  {
   "cell_type": "markdown",
   "id": "90cdc212-2c7f-4030-b9e7-0ac69d4ca4b5",
   "metadata": {},
   "source": [
    "# Integer to Convert (String,Float,Complex)"
   ]
  },
  {
   "cell_type": "code",
   "execution_count": 5,
   "id": "f8486e04-ee64-4b77-85ee-1f320650a371",
   "metadata": {},
   "outputs": [
    {
     "name": "stdout",
     "output_type": "stream",
     "text": [
      "10\n",
      "<class 'str'>\n"
     ]
    }
   ],
   "source": [
    "#integer convert to string\n",
    "a=10\n",
    "b=str(a)\n",
    "print(b)\n",
    "print(type(b))\n"
   ]
  },
  {
   "cell_type": "code",
   "execution_count": 1,
   "id": "6a7a0a24-e069-400e-a3d7-238d7d6a7067",
   "metadata": {},
   "outputs": [
    {
     "name": "stdout",
     "output_type": "stream",
     "text": [
      "10.0\n",
      "<class 'float'>\n"
     ]
    }
   ],
   "source": [
    "#integer convert to float\n",
    "a=10\n",
    "b=float(a)\n",
    "print(b)\n",
    "print(type(b))"
   ]
  },
  {
   "cell_type": "code",
   "execution_count": 7,
   "id": "20b7d8f8-22c4-4671-bed8-df62ed56cb3c",
   "metadata": {},
   "outputs": [
    {
     "name": "stdout",
     "output_type": "stream",
     "text": [
      "(10+0j)\n",
      "<class 'complex'>\n"
     ]
    }
   ],
   "source": [
    "#integer convert to complex\n",
    "a=10\n",
    "b=complex(a)\n",
    "print(b)\n",
    "print(type(b))\n"
   ]
  },
  {
   "cell_type": "markdown",
   "id": "2a69eebd-ca37-4c84-aab1-ac80414a164d",
   "metadata": {},
   "source": [
    "# String Convert to(Integer,Float,Complex)"
   ]
  },
  {
   "cell_type": "code",
   "execution_count": 10,
   "id": "8ab81920-bfa3-45f7-b507-493b6259b3f5",
   "metadata": {},
   "outputs": [
    {
     "ename": "ValueError",
     "evalue": "invalid literal for int() with base 10: 'hi'",
     "output_type": "error",
     "traceback": [
      "\u001b[1;31m---------------------------------------------------------------------------\u001b[0m",
      "\u001b[1;31mValueError\u001b[0m                                Traceback (most recent call last)",
      "Cell \u001b[1;32mIn[10], line 2\u001b[0m\n\u001b[0;32m      1\u001b[0m s\u001b[38;5;241m=\u001b[39m\u001b[38;5;124m\"\u001b[39m\u001b[38;5;124mhi\u001b[39m\u001b[38;5;124m\"\u001b[39m\n\u001b[1;32m----> 2\u001b[0m m\u001b[38;5;241m=\u001b[39m\u001b[38;5;28mint\u001b[39m(s)\n\u001b[0;32m      3\u001b[0m \u001b[38;5;28mprint\u001b[39m(m)\n\u001b[0;32m      4\u001b[0m \u001b[38;5;28mprint\u001b[39m(\u001b[38;5;28mtype\u001b[39m(m))\n",
      "\u001b[1;31mValueError\u001b[0m: invalid literal for int() with base 10: 'hi'"
     ]
    }
   ],
   "source": [
    "#string does not convert integer\n",
    "s=\"hi\"\n",
    "m=int(s)\n",
    "print(m)\n",
    "print(type(m))"
   ]
  },
  {
   "cell_type": "code",
   "execution_count": 12,
   "id": "2dd3a55d-5882-4349-9a55-40248c2bd784",
   "metadata": {},
   "outputs": [
    {
     "ename": "ValueError",
     "evalue": "could not convert string to float: 'hi'",
     "output_type": "error",
     "traceback": [
      "\u001b[1;31m---------------------------------------------------------------------------\u001b[0m",
      "\u001b[1;31mValueError\u001b[0m                                Traceback (most recent call last)",
      "Cell \u001b[1;32mIn[12], line 3\u001b[0m\n\u001b[0;32m      1\u001b[0m \u001b[38;5;66;03m#string to float\u001b[39;00m\n\u001b[0;32m      2\u001b[0m s\u001b[38;5;241m=\u001b[39m\u001b[38;5;124m\"\u001b[39m\u001b[38;5;124mhi\u001b[39m\u001b[38;5;124m\"\u001b[39m\n\u001b[1;32m----> 3\u001b[0m m\u001b[38;5;241m=\u001b[39m\u001b[38;5;28mfloat\u001b[39m(s)\n\u001b[0;32m      4\u001b[0m \u001b[38;5;28mprint\u001b[39m(m)\n\u001b[0;32m      5\u001b[0m \u001b[38;5;28mprint\u001b[39m(\u001b[38;5;28mtype\u001b[39m(m))\n",
      "\u001b[1;31mValueError\u001b[0m: could not convert string to float: 'hi'"
     ]
    }
   ],
   "source": [
    "#string does not convert to float\n",
    "s=\"hi\"\n",
    "m=float(s)\n",
    "print(m)\n",
    "print(type(m))"
   ]
  },
  {
   "cell_type": "code",
   "execution_count": 13,
   "id": "54416951-7ac1-4e45-94bb-b3e916cd4259",
   "metadata": {},
   "outputs": [
    {
     "ename": "ValueError",
     "evalue": "complex() arg is a malformed string",
     "output_type": "error",
     "traceback": [
      "\u001b[1;31m---------------------------------------------------------------------------\u001b[0m",
      "\u001b[1;31mValueError\u001b[0m                                Traceback (most recent call last)",
      "Cell \u001b[1;32mIn[13], line 3\u001b[0m\n\u001b[0;32m      1\u001b[0m \u001b[38;5;66;03m#string does not convert to complex\u001b[39;00m\n\u001b[0;32m      2\u001b[0m s\u001b[38;5;241m=\u001b[39m\u001b[38;5;124m\"\u001b[39m\u001b[38;5;124mhi\u001b[39m\u001b[38;5;124m\"\u001b[39m\n\u001b[1;32m----> 3\u001b[0m m\u001b[38;5;241m=\u001b[39m\u001b[38;5;28mcomplex\u001b[39m(s)\n\u001b[0;32m      4\u001b[0m \u001b[38;5;28mprint\u001b[39m(m)\n\u001b[0;32m      5\u001b[0m \u001b[38;5;28mprint\u001b[39m(\u001b[38;5;28mtype\u001b[39m(m))\n",
      "\u001b[1;31mValueError\u001b[0m: complex() arg is a malformed string"
     ]
    }
   ],
   "source": [
    "#string does not convert to complex\n",
    "s=\"hi\"\n",
    "m=complex(s)\n",
    "print(m)\n",
    "print(type(m))"
   ]
  },
  {
   "cell_type": "markdown",
   "id": "ace324cf-ee7c-4ab0-8c9d-f0e58f5fdb82",
   "metadata": {},
   "source": [
    "# Float Convert to (String,Integer,Complex)"
   ]
  },
  {
   "cell_type": "code",
   "execution_count": 15,
   "id": "a2eb8d7a-f081-4de3-8bac-c7fd1b4bbc56",
   "metadata": {},
   "outputs": [
    {
     "name": "stdout",
     "output_type": "stream",
     "text": [
      "1.0\n",
      "<class 'str'>\n"
     ]
    }
   ],
   "source": [
    "#float convert to string\n",
    "f=1.0\n",
    "result=str(f)\n",
    "print(result)\n",
    "print(type(result))"
   ]
  },
  {
   "cell_type": "code",
   "execution_count": 16,
   "id": "fbf7f70d-48ec-45a7-b097-a279f0b3d571",
   "metadata": {},
   "outputs": [
    {
     "name": "stdout",
     "output_type": "stream",
     "text": [
      "1\n",
      "<class 'int'>\n"
     ]
    }
   ],
   "source": [
    "#float convert to integer\n",
    "f=1.0\n",
    "result=int(f)\n",
    "print(result)\n",
    "print(type(result))\n"
   ]
  },
  {
   "cell_type": "code",
   "execution_count": 17,
   "id": "1e9c32ec-c573-405c-956b-8b9a1114d056",
   "metadata": {},
   "outputs": [
    {
     "name": "stdout",
     "output_type": "stream",
     "text": [
      "(1+0j)\n",
      "<class 'complex'>\n"
     ]
    }
   ],
   "source": [
    "#float convert to Complex\n",
    "f=1.0\n",
    "result=complex(f)\n",
    "print(result)\n",
    "print(type(result))"
   ]
  },
  {
   "cell_type": "markdown",
   "id": "b85254ee-9b19-495e-b784-280bf0075fb5",
   "metadata": {},
   "source": [
    "# Complex convert to (String,integer,Float)"
   ]
  },
  {
   "cell_type": "code",
   "execution_count": 18,
   "id": "8c2154a4-afd3-4796-b419-4e532b62e9fa",
   "metadata": {},
   "outputs": [
    {
     "name": "stdout",
     "output_type": "stream",
     "text": [
      "(1+3j)\n",
      "<class 'str'>\n"
     ]
    }
   ],
   "source": [
    "#complex convert to string\n",
    "c=1+3j\n",
    "result=str(c)\n",
    "print(result)\n",
    "print(type(result))"
   ]
  },
  {
   "cell_type": "code",
   "execution_count": 19,
   "id": "1fe80325-b217-4e72-b455-222bd094343a",
   "metadata": {},
   "outputs": [
    {
     "ename": "TypeError",
     "evalue": "int() argument must be a string, a bytes-like object or a real number, not 'complex'",
     "output_type": "error",
     "traceback": [
      "\u001b[1;31m---------------------------------------------------------------------------\u001b[0m",
      "\u001b[1;31mTypeError\u001b[0m                                 Traceback (most recent call last)",
      "Cell \u001b[1;32mIn[19], line 3\u001b[0m\n\u001b[0;32m      1\u001b[0m \u001b[38;5;66;03m#complex  convert to integer\u001b[39;00m\n\u001b[0;32m      2\u001b[0m c\u001b[38;5;241m=\u001b[39m\u001b[38;5;241m1\u001b[39m\u001b[38;5;241m+\u001b[39m\u001b[38;5;241m3\u001b[39mj\n\u001b[1;32m----> 3\u001b[0m result\u001b[38;5;241m=\u001b[39m\u001b[38;5;28mint\u001b[39m(c)\n\u001b[0;32m      4\u001b[0m \u001b[38;5;28mprint\u001b[39m(result)\n\u001b[0;32m      5\u001b[0m \u001b[38;5;28mprint\u001b[39m(\u001b[38;5;28mtype\u001b[39m(result))\n",
      "\u001b[1;31mTypeError\u001b[0m: int() argument must be a string, a bytes-like object or a real number, not 'complex'"
     ]
    }
   ],
   "source": [
    "#complex does not convert to integer\n",
    "c=1+3j\n",
    "result=int(c)\n",
    "print(result)\n",
    "print(type(result))"
   ]
  },
  {
   "cell_type": "code",
   "execution_count": 20,
   "id": "c542f207-c724-4b1d-a051-9d23996765c4",
   "metadata": {},
   "outputs": [
    {
     "ename": "TypeError",
     "evalue": "float() argument must be a string or a real number, not 'complex'",
     "output_type": "error",
     "traceback": [
      "\u001b[1;31m---------------------------------------------------------------------------\u001b[0m",
      "\u001b[1;31mTypeError\u001b[0m                                 Traceback (most recent call last)",
      "Cell \u001b[1;32mIn[20], line 3\u001b[0m\n\u001b[0;32m      1\u001b[0m \u001b[38;5;66;03m#complex convert to float\u001b[39;00m\n\u001b[0;32m      2\u001b[0m c\u001b[38;5;241m=\u001b[39m\u001b[38;5;241m1\u001b[39m\u001b[38;5;241m+\u001b[39m\u001b[38;5;241m3\u001b[39mj\n\u001b[1;32m----> 3\u001b[0m result\u001b[38;5;241m=\u001b[39m\u001b[38;5;28mfloat\u001b[39m(c)\n\u001b[0;32m      4\u001b[0m \u001b[38;5;28mprint\u001b[39m(result)\n\u001b[0;32m      5\u001b[0m \u001b[38;5;28mprint\u001b[39m(\u001b[38;5;28mtype\u001b[39m(result))\n",
      "\u001b[1;31mTypeError\u001b[0m: float() argument must be a string or a real number, not 'complex'"
     ]
    }
   ],
   "source": [
    "#complex convert to float\n",
    "c=1+3j\n",
    "result=float(c)\n",
    "print(result)\n",
    "print(type(result))"
   ]
  }
 ],
 "metadata": {
  "kernelspec": {
   "display_name": "Python 3 (ipykernel)",
   "language": "python",
   "name": "python3"
  },
  "language_info": {
   "codemirror_mode": {
    "name": "ipython",
    "version": 3
   },
   "file_extension": ".py",
   "mimetype": "text/x-python",
   "name": "python",
   "nbconvert_exporter": "python",
   "pygments_lexer": "ipython3",
   "version": "3.12.7"
  }
 },
 "nbformat": 4,
 "nbformat_minor": 5
}
