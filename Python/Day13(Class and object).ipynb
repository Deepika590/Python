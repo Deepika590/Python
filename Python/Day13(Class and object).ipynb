{
 "cells": [
  {
   "cell_type": "markdown",
   "id": "d366a645-8e4f-4e30-88df-ba1e1387bbd2",
   "metadata": {},
   "source": [
    "# 17/01/25 - Task"
   ]
  },
  {
   "cell_type": "code",
   "execution_count": 1,
   "id": "3768fb8e-103e-4c9b-9df9-d531de71c242",
   "metadata": {},
   "outputs": [
    {
     "data": {
      "text/plain": [
       "12"
      ]
     },
     "execution_count": 1,
     "metadata": {},
     "output_type": "execute_result"
    }
   ],
   "source": [
    "class mycls:\n",
    "    def add(add1):\n",
    "        a=3\n",
    "        b=4\n",
    "        return(a*b)\n",
    "res=mycls()\n",
    "res.add()\n"
   ]
  },
  {
   "cell_type": "code",
   "execution_count": 2,
   "id": "c8a02c43-2ae3-4953-b89c-a43ef6a08cb9",
   "metadata": {},
   "outputs": [
    {
     "name": "stdout",
     "output_type": "stream",
     "text": [
      "hello\n"
     ]
    }
   ],
   "source": [
    "# class and using function\n",
    "class mycls:\n",
    "    def msg(send):\n",
    "        print(\"hello\")\n",
    "res=mycls()\n",
    "res.msg()"
   ]
  },
  {
   "cell_type": "code",
   "execution_count": 3,
   "id": "164f5134-7b03-4570-b150-863e0e08ae5c",
   "metadata": {},
   "outputs": [
    {
     "name": "stdout",
     "output_type": "stream",
     "text": [
      "9\n"
     ]
    }
   ],
   "source": [
    "# class and objects\n",
    "class mycls:\n",
    "    x=5\n",
    "    y=4\n",
    "    z=(x+y)\n",
    "result=mycls()\n",
    "print(result.z)"
   ]
  },
  {
   "cell_type": "code",
   "execution_count": null,
   "id": "31d46e47-cf09-4ef2-ac59-814c0267d284",
   "metadata": {},
   "outputs": [],
   "source": []
  }
 ],
 "metadata": {
  "kernelspec": {
   "display_name": "Python 3 (ipykernel)",
   "language": "python",
   "name": "python3"
  },
  "language_info": {
   "codemirror_mode": {
    "name": "ipython",
    "version": 3
   },
   "file_extension": ".py",
   "mimetype": "text/x-python",
   "name": "python",
   "nbconvert_exporter": "python",
   "pygments_lexer": "ipython3",
   "version": "3.12.7"
  }
 },
 "nbformat": 4,
 "nbformat_minor": 5
}
