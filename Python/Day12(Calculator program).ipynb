{
 "cells": [
  {
   "cell_type": "markdown",
   "id": "54fcf3be-d5c3-4eb1-8a7c-6765e45b309f",
   "metadata": {},
   "source": [
    "# Simple Calculator Program"
   ]
  },
  {
   "cell_type": "code",
   "execution_count": null,
   "id": "13571d26-cd98-40d0-a8fd-962a3165891e",
   "metadata": {},
   "outputs": [
    {
     "name": "stdout",
     "output_type": "stream",
     "text": [
      "Select Operation:\n",
      "1.Addition\n",
      "2.Subtraction\n",
      "3.Multiplication\n",
      "4.Division\n",
      "5.Modulus\n"
     ]
    },
    {
     "name": "stdin",
     "output_type": "stream",
     "text": [
      "Enter operator:  -\n",
      "Enter first number:  3\n",
      "Enter second number:  3\n"
     ]
    },
    {
     "name": "stdout",
     "output_type": "stream",
     "text": [
      "3 + 3 = 0\n"
     ]
    },
    {
     "name": "stdin",
     "output_type": "stream",
     "text": [
      "Do you want to perform another calculation? (yes/no): yes\n"
     ]
    }
   ],
   "source": [
    "def add(x, y):\n",
    "    return x + y \n",
    "def sub(x, y):\n",
    "    return x - y\n",
    "def mul(x, y):\n",
    "    return x * y\n",
    "def div(x, y):\n",
    "    if y == 0:\n",
    "        return \"Error: Division by zero is not allowed.\"\n",
    "    return x / y\n",
    "def mod(x, y):\n",
    "    return x % y\n",
    "print(\"Select Operation:\")\n",
    "print(\"1.Addition\")\n",
    "print(\"2.Subtraction\")\n",
    "print(\"3.Multiplication\")\n",
    "print(\"4.Division\")\n",
    "print(\"5.Modulus\")\n",
    "while True:\n",
    "    operator = input(\"Enter operator: \")\n",
    "    x = int(input(\"Enter first number: \"))\n",
    "    y = int(input(\"Enter second number: \"))\n",
    "    if operator == '+':\n",
    "        print(x,\"+\", y, \"=\",add(x, y))\n",
    "    elif operator == '-':\n",
    "        print(x,\"+\", y, \"=\",sub(x, y))\n",
    "    elif operator == '*':\n",
    "        print(x,\"*\", y, \"=\",mul(x, y))\n",
    "    elif operator == '/':\n",
    "        print(x,\"/\", y, \"=\",div(x, y))\n",
    "    elif operator == '%':\n",
    "        print(x,\"%\", y, \"=\",mod(x, y))\n",
    "    else:\n",
    "        print(\"Invalid Operator\")\n",
    "    next_cal= input(\"Do you want to perform another calculation? (yes/no):\")\n",
    "    if next_cal == 'no':\n",
    "        print(\"Thank you for using the calculator!\")\n",
    "        break"
   ]
  },
  {
   "cell_type": "code",
   "execution_count": null,
   "id": "b9944f43-928c-4db1-a3dc-68e161449f40",
   "metadata": {},
   "outputs": [],
   "source": []
  }
 ],
 "metadata": {
  "kernelspec": {
   "display_name": "Python 3 (ipykernel)",
   "language": "python",
   "name": "python3"
  },
  "language_info": {
   "codemirror_mode": {
    "name": "ipython",
    "version": 3
   },
   "file_extension": ".py",
   "mimetype": "text/x-python",
   "name": "python",
   "nbconvert_exporter": "python",
   "pygments_lexer": "ipython3",
   "version": "3.12.7"
  }
 },
 "nbformat": 4,
 "nbformat_minor": 5
}
