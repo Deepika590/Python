{
 "cells": [
  {
   "cell_type": "markdown",
   "id": "98648548-00b4-478c-8066-49ef1be2432d",
   "metadata": {},
   "source": [
    "# 19/12/24 - Home Work"
   ]
  },
  {
   "cell_type": "markdown",
   "id": "50c15723-7e86-4fc0-ad64-c238c26bbcef",
   "metadata": {},
   "source": [
    "# Indexing And Slicing"
   ]
  },
  {
   "cell_type": "markdown",
   "id": "75962535-1d67-4e31-8a2b-dd8a49090a90",
   "metadata": {},
   "source": [
    " # Positive Indexing and Slicing"
   ]
  },
  {
   "cell_type": "code",
   "execution_count": 1,
   "id": "113d35aa-1ae6-4980-bbc2-8934e041ae85",
   "metadata": {},
   "outputs": [
    {
     "name": "stdout",
     "output_type": "stream",
     "text": [
      "i\n"
     ]
    }
   ],
   "source": [
    "k=\"Practice Makes A Perfect Man\"\n",
    "print(k[5])"
   ]
  },
  {
   "cell_type": "code",
   "execution_count": 7,
   "id": "5aad4ec7-bc0d-4e5f-84fa-958b47d4c03e",
   "metadata": {},
   "outputs": [
    {
     "name": "stdout",
     "output_type": "stream",
     "text": [
      "M\n"
     ]
    }
   ],
   "source": [
    "k=\"Practice Makes A Perfect Man\"\n",
    "print(k[9])"
   ]
  },
  {
   "cell_type": "code",
   "execution_count": 22,
   "id": "964b17dc-4f40-4797-b04b-e934db63f1d5",
   "metadata": {},
   "outputs": [
    {
     "name": "stdout",
     "output_type": "stream",
     "text": [
      "c\n"
     ]
    }
   ],
   "source": [
    "k=\"Practice Makes A Perfect Man\"\n",
    "print(k[22])"
   ]
  },
  {
   "cell_type": "code",
   "execution_count": 2,
   "id": "787e85cf-8fad-4c93-b16e-7ac752fd4cfd",
   "metadata": {},
   "outputs": [
    {
     "name": "stdout",
     "output_type": "stream",
     "text": [
      "ce\n"
     ]
    }
   ],
   "source": [
    "k=\"Practice Makes A Perfect Man\"\n",
    "print(k[6:8])"
   ]
  },
  {
   "cell_type": "code",
   "execution_count": 3,
   "id": "b9562156-7f92-4c02-8709-9f192391f2c8",
   "metadata": {},
   "outputs": [
    {
     "name": "stdout",
     "output_type": "stream",
     "text": [
      "Pra\n"
     ]
    }
   ],
   "source": [
    "k=\"Practice Makes A Perfect Man\"\n",
    "print(k[:3])"
   ]
  },
  {
   "cell_type": "code",
   "execution_count": 5,
   "id": "86c4c321-0d48-46b3-975c-9cf6548218c8",
   "metadata": {},
   "outputs": [
    {
     "name": "stdout",
     "output_type": "stream",
     "text": [
      "actice Makes A Perfect Man\n"
     ]
    }
   ],
   "source": [
    "k=\"Practice Makes A Perfect Man\"\n",
    "print(k[2:])"
   ]
  },
  {
   "cell_type": "markdown",
   "id": "0110189e-f759-414a-9d7d-f8e72b8c362d",
   "metadata": {},
   "source": [
    "# Negative Indexing And Slicing"
   ]
  },
  {
   "cell_type": "code",
   "execution_count": 9,
   "id": "73817c3f-490c-4cbb-83e0-1b389efd2d6e",
   "metadata": {},
   "outputs": [
    {
     "name": "stdout",
     "output_type": "stream",
     "text": [
      "c\n"
     ]
    }
   ],
   "source": [
    "k=\"Practice Makes A Perfect Man\"\n",
    "print(k[-6])"
   ]
  },
  {
   "cell_type": "code",
   "execution_count": 10,
   "id": "c0eff352-255d-4d98-9cd0-f10d4a6cafed",
   "metadata": {},
   "outputs": [
    {
     "name": "stdout",
     "output_type": "stream",
     "text": [
      "r\n"
     ]
    }
   ],
   "source": [
    "k=\"Practice Makes A Perfect Man\"\n",
    "print(k[-9])"
   ]
  },
  {
   "cell_type": "code",
   "execution_count": 13,
   "id": "2ddfd78e-df61-4046-bd29-3f721f435c8a",
   "metadata": {},
   "outputs": [
    {
     "name": "stdout",
     "output_type": "stream",
     "text": [
      "s\n"
     ]
    }
   ],
   "source": [
    "k=\"Practice Makes A Perfect Man\"\n",
    "print(k[-15])"
   ]
  },
  {
   "cell_type": "code",
   "execution_count": 14,
   "id": "5fc960d7-08e8-4ec3-b146-38c165a3f42e",
   "metadata": {},
   "outputs": [
    {
     "name": "stdout",
     "output_type": "stream",
     "text": [
      "Ma\n"
     ]
    }
   ],
   "source": [
    "k=\"Practice Makes A Perfect Man\"\n",
    "print(k[-3:-1])"
   ]
  },
  {
   "cell_type": "code",
   "execution_count": 16,
   "id": "883d0920-3a0b-44ae-a237-c432daf98a9f",
   "metadata": {},
   "outputs": [
    {
     "name": "stdout",
     "output_type": "stream",
     "text": [
      "rfect M\n"
     ]
    }
   ],
   "source": [
    "k=\"Practice Makes A Perfect Man\"\n",
    "print(k[-9:-2])"
   ]
  },
  {
   "cell_type": "code",
   "execution_count": 17,
   "id": "9d032110-7258-4b34-8bc2-b9554a755b6a",
   "metadata": {},
   "outputs": [
    {
     "name": "stdout",
     "output_type": "stream",
     "text": [
      " Perfect Man\n"
     ]
    }
   ],
   "source": [
    "k=\"Practice Makes A Perfect Man\"\n",
    "print(k[-12:])"
   ]
  },
  {
   "cell_type": "code",
   "execution_count": 18,
   "id": "a17508bf-fdc9-4d89-b0b5-d11541d835f1",
   "metadata": {},
   "outputs": [
    {
     "name": "stdout",
     "output_type": "stream",
     "text": [
      "Practice Makes A Perfect Ma\n"
     ]
    }
   ],
   "source": [
    "k=\"Practice Makes A Perfect Man\"\n",
    "print(k[:-1])"
   ]
  },
  {
   "cell_type": "code",
   "execution_count": 20,
   "id": "d00be44c-4699-4c2e-9877-2ce5d4e7d525",
   "metadata": {},
   "outputs": [
    {
     "name": "stdout",
     "output_type": "stream",
     "text": [
      "Practice Makes A Perfect Man\n"
     ]
    }
   ],
   "source": [
    "k=\"Practice Makes A Perfect Man\"\n",
    "print(k[-28:])"
   ]
  },
  {
   "cell_type": "code",
   "execution_count": null,
   "id": "a1987b97-9ad4-410c-80b6-dad054422160",
   "metadata": {},
   "outputs": [],
   "source": []
  }
 ],
 "metadata": {
  "kernelspec": {
   "display_name": "Python 3 (ipykernel)",
   "language": "python",
   "name": "python3"
  },
  "language_info": {
   "codemirror_mode": {
    "name": "ipython",
    "version": 3
   },
   "file_extension": ".py",
   "mimetype": "text/x-python",
   "name": "python",
   "nbconvert_exporter": "python",
   "pygments_lexer": "ipython3",
   "version": "3.12.7"
  }
 },
 "nbformat": 4,
 "nbformat_minor": 5
}
