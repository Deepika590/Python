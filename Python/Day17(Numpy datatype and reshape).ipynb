{
 "cells": [
  {
   "cell_type": "markdown",
   "id": "df32ce28-8963-492e-85c2-20fd0669502e",
   "metadata": {},
   "source": [
    "# 25/01/25 - Numpy datatypes"
   ]
  },
  {
   "cell_type": "code",
   "execution_count": 1,
   "id": "1c4e248f-8289-42e4-88f8-58105d4a3ffd",
   "metadata": {},
   "outputs": [],
   "source": [
    "# i - integer\n",
    "# b - boolean\n",
    "# u - unsigned integer\n",
    "# f - float\n",
    "# c - complex float\n",
    "# S - string"
   ]
  },
  {
   "cell_type": "code",
   "execution_count": 11,
   "id": "759d232f-15f7-4df9-be4d-9566fdbb80ae",
   "metadata": {},
   "outputs": [
    {
     "name": "stdout",
     "output_type": "stream",
     "text": [
      "int32\n"
     ]
    }
   ],
   "source": [
    "import numpy as np\n",
    "a=np.array([4,5,6,7,8]) # integer\n",
    "# print(type(a))\n",
    "print(a.dtype)"
   ]
  },
  {
   "cell_type": "code",
   "execution_count": 12,
   "id": "81d1e109-f014-4b8c-8dcd-74e5c2054098",
   "metadata": {},
   "outputs": [
    {
     "name": "stdout",
     "output_type": "stream",
     "text": [
      "<U6\n"
     ]
    }
   ],
   "source": [
    "a=np.array(['stalin','9','0']) #String\n",
    "# print(type(a))\n",
    "print(a.dtype)  # represent the unicode string(U) and return the maximum value of string is (6)--><U6"
   ]
  },
  {
   "cell_type": "code",
   "execution_count": 14,
   "id": "2baa4744-db8d-41b9-bfe8-1a62aea15cbc",
   "metadata": {},
   "outputs": [
    {
     "name": "stdout",
     "output_type": "stream",
     "text": [
      "float64\n"
     ]
    }
   ],
   "source": [
    "a=np.array([1.0,34.0,98.0]) #Float\n",
    "print(a.dtype)"
   ]
  },
  {
   "cell_type": "code",
   "execution_count": 19,
   "id": "b0d599ce-369e-48d8-864b-4c47242dfeb4",
   "metadata": {},
   "outputs": [
    {
     "name": "stdout",
     "output_type": "stream",
     "text": [
      "complex128\n"
     ]
    }
   ],
   "source": [
    "a=np.array([1+3j]) #Complex\n",
    "print(a.dtype)"
   ]
  },
  {
   "cell_type": "markdown",
   "id": "4388386c-e8c1-4ec9-85e2-892a7e83ff9d",
   "metadata": {},
   "source": [
    "# datatype converting"
   ]
  },
  {
   "cell_type": "markdown",
   "id": "ed36d0e9-9a81-445a-b262-9c42824dd2b3",
   "metadata": {},
   "source": [
    "## 1.integer to string,float,complex"
   ]
  },
  {
   "cell_type": "code",
   "execution_count": 20,
   "id": "e4c67a9a-42f8-4f03-87a2-ebd53febf240",
   "metadata": {},
   "outputs": [
    {
     "name": "stdout",
     "output_type": "stream",
     "text": [
      "[b'1' b'2' b'3' b'4' b'5']\n",
      "|S1\n"
     ]
    }
   ],
   "source": [
    "a=np.array([1,2,3,4,5],dtype=\"S\")\n",
    "print(a)\n",
    "print(a.dtype)"
   ]
  },
  {
   "cell_type": "code",
   "execution_count": 21,
   "id": "c0dc1513-457c-4a6e-af3a-1e195b3f142b",
   "metadata": {},
   "outputs": [
    {
     "name": "stdout",
     "output_type": "stream",
     "text": [
      "[1. 2. 3. 4. 5.]\n",
      "float64\n"
     ]
    }
   ],
   "source": [
    "a=np.array([1,2,3,4,5],dtype=\"float\")\n",
    "print(a)\n",
    "print(a.dtype)"
   ]
  },
  {
   "cell_type": "code",
   "execution_count": 22,
   "id": "20754b40-35fd-4feb-941b-34be07af1b9b",
   "metadata": {},
   "outputs": [
    {
     "name": "stdout",
     "output_type": "stream",
     "text": [
      "[1.+0.j 2.+0.j 3.+0.j 4.+0.j 5.+0.j]\n",
      "complex128\n"
     ]
    }
   ],
   "source": [
    "a=np.array([1,2,3,4,5],dtype=\"complex\")\n",
    "print(a)\n",
    "print(a.dtype)"
   ]
  },
  {
   "cell_type": "markdown",
   "id": "3f027b4d-c216-4a96-93e0-071b6fd8109d",
   "metadata": {},
   "source": [
    "## 2.string does not convert to any datatype"
   ]
  },
  {
   "cell_type": "code",
   "execution_count": 26,
   "id": "974fdccc-57f6-4189-b83c-3a41103114f6",
   "metadata": {},
   "outputs": [
    {
     "ename": "ValueError",
     "evalue": "invalid literal for int() with base 10: 'sea'",
     "output_type": "error",
     "traceback": [
      "\u001b[1;31m---------------------------------------------------------------------------\u001b[0m",
      "\u001b[1;31mValueError\u001b[0m                                Traceback (most recent call last)",
      "Cell \u001b[1;32mIn[26], line 1\u001b[0m\n\u001b[1;32m----> 1\u001b[0m a\u001b[38;5;241m=\u001b[39mnp\u001b[38;5;241m.\u001b[39marray([\u001b[38;5;124m'\u001b[39m\u001b[38;5;124m1\u001b[39m\u001b[38;5;124m'\u001b[39m,\u001b[38;5;124m'\u001b[39m\u001b[38;5;124msea\u001b[39m\u001b[38;5;124m'\u001b[39m,\u001b[38;5;124m'\u001b[39m\u001b[38;5;124m2\u001b[39m\u001b[38;5;124m'\u001b[39m],dtype\u001b[38;5;241m=\u001b[39m\u001b[38;5;124m\"\u001b[39m\u001b[38;5;124mi\u001b[39m\u001b[38;5;124m\"\u001b[39m)\n\u001b[0;32m      2\u001b[0m \u001b[38;5;28mprint\u001b[39m(a)\n\u001b[0;32m      3\u001b[0m \u001b[38;5;28mprint\u001b[39m(a\u001b[38;5;241m.\u001b[39mdtype)\n",
      "\u001b[1;31mValueError\u001b[0m: invalid literal for int() with base 10: 'sea'"
     ]
    }
   ],
   "source": [
    "a=np.array(['1','sea','2'],dtype=\"i\")\n",
    "print(a)\n",
    "print(a.dtype)  # does string convert to integer,float or complex"
   ]
  },
  {
   "cell_type": "markdown",
   "id": "43a217a4-8b0c-48aa-93cd-dced4fc935db",
   "metadata": {},
   "source": [
    "## 3.Float to int,String,complex"
   ]
  },
  {
   "cell_type": "code",
   "execution_count": 27,
   "id": "0a0a5250-4f0b-4774-b085-953dcfae008b",
   "metadata": {},
   "outputs": [
    {
     "name": "stdout",
     "output_type": "stream",
     "text": [
      "[ 1  5 98]\n",
      "int32\n"
     ]
    }
   ],
   "source": [
    "a=np.array([1.67,5.67,98.7],dtype=\"i\")\n",
    "print(a)\n",
    "print(a.dtype)"
   ]
  },
  {
   "cell_type": "code",
   "execution_count": 28,
   "id": "f49c68d8-6895-4270-940a-ec4679e15be2",
   "metadata": {},
   "outputs": [
    {
     "name": "stdout",
     "output_type": "stream",
     "text": [
      "[b'1.67' b'5.67' b'98.7']\n",
      "|S4\n"
     ]
    }
   ],
   "source": [
    "a=np.array([1.67,5.67,98.7],dtype=\"S\")\n",
    "print(a)\n",
    "print(a.dtype)"
   ]
  },
  {
   "cell_type": "code",
   "execution_count": 29,
   "id": "22178542-d98c-4436-9e35-9d7ff6795464",
   "metadata": {},
   "outputs": [
    {
     "name": "stdout",
     "output_type": "stream",
     "text": [
      "[ 1.67+0.j  5.67+0.j 98.7 +0.j]\n",
      "complex128\n"
     ]
    }
   ],
   "source": [
    "a=np.array([1.67,5.67,98.7],dtype=\"complex\")\n",
    "print(a)\n",
    "print(a.dtype)"
   ]
  },
  {
   "cell_type": "markdown",
   "id": "70d5c1b7-e478-4998-9250-f85c71c242a0",
   "metadata": {},
   "source": [
    "## 4.Complex  to int,String,float"
   ]
  },
  {
   "cell_type": "code",
   "execution_count": 30,
   "id": "6e83ccca-da5d-47a3-b7f7-4a0064e00856",
   "metadata": {},
   "outputs": [
    {
     "ename": "TypeError",
     "evalue": "int() argument must be a string, a bytes-like object or a real number, not 'complex'",
     "output_type": "error",
     "traceback": [
      "\u001b[1;31m---------------------------------------------------------------------------\u001b[0m",
      "\u001b[1;31mTypeError\u001b[0m                                 Traceback (most recent call last)",
      "Cell \u001b[1;32mIn[30], line 1\u001b[0m\n\u001b[1;32m----> 1\u001b[0m a\u001b[38;5;241m=\u001b[39mnp\u001b[38;5;241m.\u001b[39marray([\u001b[38;5;241m1\u001b[39m\u001b[38;5;241m+\u001b[39m\u001b[38;5;241m3\u001b[39mj,\u001b[38;5;241m5\u001b[39m\u001b[38;5;241m+\u001b[39m\u001b[38;5;241m6\u001b[39mj,\u001b[38;5;241m9\u001b[39m\u001b[38;5;241m+\u001b[39m\u001b[38;5;241m1\u001b[39mj],dtype\u001b[38;5;241m=\u001b[39m\u001b[38;5;124m\"\u001b[39m\u001b[38;5;124mi\u001b[39m\u001b[38;5;124m\"\u001b[39m)\n\u001b[0;32m      2\u001b[0m \u001b[38;5;28mprint\u001b[39m(a)\n\u001b[0;32m      3\u001b[0m \u001b[38;5;28mprint\u001b[39m(a\u001b[38;5;241m.\u001b[39mdtype)\n",
      "\u001b[1;31mTypeError\u001b[0m: int() argument must be a string, a bytes-like object or a real number, not 'complex'"
     ]
    }
   ],
   "source": [
    "a=np.array([1+3j,5+6j,9+1j],dtype=\"i\")\n",
    "print(a)\n",
    "print(a.dtype)  #does not change to integer"
   ]
  },
  {
   "cell_type": "code",
   "execution_count": 31,
   "id": "460441a4-9db7-445e-8109-30841748a578",
   "metadata": {},
   "outputs": [
    {
     "ename": "TypeError",
     "evalue": "float() argument must be a string or a real number, not 'complex'",
     "output_type": "error",
     "traceback": [
      "\u001b[1;31m---------------------------------------------------------------------------\u001b[0m",
      "\u001b[1;31mTypeError\u001b[0m                                 Traceback (most recent call last)",
      "Cell \u001b[1;32mIn[31], line 1\u001b[0m\n\u001b[1;32m----> 1\u001b[0m a\u001b[38;5;241m=\u001b[39mnp\u001b[38;5;241m.\u001b[39marray([\u001b[38;5;241m1\u001b[39m\u001b[38;5;241m+\u001b[39m\u001b[38;5;241m3\u001b[39mj,\u001b[38;5;241m5\u001b[39m\u001b[38;5;241m+\u001b[39m\u001b[38;5;241m6\u001b[39mj,\u001b[38;5;241m9\u001b[39m\u001b[38;5;241m+\u001b[39m\u001b[38;5;241m1\u001b[39mj],dtype\u001b[38;5;241m=\u001b[39m\u001b[38;5;124m\"\u001b[39m\u001b[38;5;124mf\u001b[39m\u001b[38;5;124m\"\u001b[39m)\n\u001b[0;32m      2\u001b[0m \u001b[38;5;28mprint\u001b[39m(a)\n\u001b[0;32m      3\u001b[0m \u001b[38;5;28mprint\u001b[39m(a\u001b[38;5;241m.\u001b[39mdtype)\n",
      "\u001b[1;31mTypeError\u001b[0m: float() argument must be a string or a real number, not 'complex'"
     ]
    }
   ],
   "source": [
    "a=np.array([1+3j,5+6j,9+1j],dtype=\"f\")\n",
    "print(a)\n",
    "print(a.dtype) #does not change to float"
   ]
  },
  {
   "cell_type": "code",
   "execution_count": 32,
   "id": "1868fb91-e50c-4537-b853-6e9bb119af34",
   "metadata": {},
   "outputs": [
    {
     "name": "stdout",
     "output_type": "stream",
     "text": [
      "[b'(1+3j)' b'(5+6j)' b'(9+1j)']\n",
      "|S6\n"
     ]
    }
   ],
   "source": [
    "a=np.array([1+3j,5+6j,9+1j],dtype=\"S\")\n",
    "print(a)\n",
    "print(a.dtype)"
   ]
  },
  {
   "cell_type": "markdown",
   "id": "42d188f9-a499-4635-a174-6437f49ca533",
   "metadata": {},
   "source": [
    "# Numpy reshape"
   ]
  },
  {
   "cell_type": "markdown",
   "id": "2e00f558-e039-44a3-bb2b-2c1861b1d16c",
   "metadata": {},
   "source": [
    "## 1d to 2d and 3d reshape"
   ]
  },
  {
   "cell_type": "code",
   "execution_count": 35,
   "id": "87f405a9-778a-457a-b95a-5385a2f948ad",
   "metadata": {},
   "outputs": [
    {
     "name": "stdout",
     "output_type": "stream",
     "text": [
      "1: [[11 12 13 14]\n",
      " [15 16 17 18]\n",
      " [19  1  5  8]\n",
      " [ 9  4  6  3]]\n",
      "2: [[11 12]\n",
      " [13 14]\n",
      " [15 16]\n",
      " [17 18]\n",
      " [19  1]\n",
      " [ 5  8]\n",
      " [ 9  4]\n",
      " [ 6  3]]\n",
      "3: [[11]\n",
      " [12]\n",
      " [13]\n",
      " [14]\n",
      " [15]\n",
      " [16]\n",
      " [17]\n",
      " [18]\n",
      " [19]\n",
      " [ 1]\n",
      " [ 5]\n",
      " [ 8]\n",
      " [ 9]\n",
      " [ 4]\n",
      " [ 6]\n",
      " [ 3]]\n"
     ]
    }
   ],
   "source": [
    "a=np.array([11,12,13,14,15,16,17,18,19,1,5,8,9,4,6,3])\n",
    "print(\"1:\",a.reshape(4,4))\n",
    "print(\"2:\",a.reshape(8,2))\n",
    "print(\"3:\",a.reshape(16,1))\n"
   ]
  },
  {
   "cell_type": "code",
   "execution_count": 41,
   "id": "494b7e4b-1bec-494c-8325-474b07fa316b",
   "metadata": {},
   "outputs": [
    {
     "name": "stdout",
     "output_type": "stream",
     "text": [
      "1: [[[11 12 13 14]\n",
      "  [15 16 17 18]]\n",
      "\n",
      " [[19  1  5  8]\n",
      "  [ 9  4  6  3]]]\n",
      "2: [[[11 12]\n",
      "  [13 14]\n",
      "  [15 16]\n",
      "  [17 18]]\n",
      "\n",
      " [[19  1]\n",
      "  [ 5  8]\n",
      "  [ 9  4]\n",
      "  [ 6  3]]]\n",
      "3: [[[11]\n",
      "  [12]\n",
      "  [13]\n",
      "  [14]]\n",
      "\n",
      " [[15]\n",
      "  [16]\n",
      "  [17]\n",
      "  [18]]\n",
      "\n",
      " [[19]\n",
      "  [ 1]\n",
      "  [ 5]\n",
      "  [ 8]]\n",
      "\n",
      " [[ 9]\n",
      "  [ 4]\n",
      "  [ 6]\n",
      "  [ 3]]]\n",
      "3: [[[11]\n",
      "  [12]\n",
      "  [13]\n",
      "  [14]\n",
      "  [15]\n",
      "  [16]\n",
      "  [17]\n",
      "  [18]]\n",
      "\n",
      " [[19]\n",
      "  [ 1]\n",
      "  [ 5]\n",
      "  [ 8]\n",
      "  [ 9]\n",
      "  [ 4]\n",
      "  [ 6]\n",
      "  [ 3]]]\n"
     ]
    }
   ],
   "source": [
    "a=np.array([11,12,13,14,15,16,17,18,19,1,5,8,9,4,6,3])\n",
    "print(\"1:\",a.reshape(2,2,4))\n",
    "print(\"2:\",a.reshape(2,4,2))\n",
    "print(\"3:\",a.reshape(4,4,1))\n",
    "print(\"3:\",a.reshape(2,8,1))\n"
   ]
  },
  {
   "cell_type": "code",
   "execution_count": null,
   "id": "1e42130b-b2c1-49f8-8972-433b450cdeaa",
   "metadata": {},
   "outputs": [],
   "source": []
  }
 ],
 "metadata": {
  "kernelspec": {
   "display_name": "Python 3 (ipykernel)",
   "language": "python",
   "name": "python3"
  },
  "language_info": {
   "codemirror_mode": {
    "name": "ipython",
    "version": 3
   },
   "file_extension": ".py",
   "mimetype": "text/x-python",
   "name": "python",
   "nbconvert_exporter": "python",
   "pygments_lexer": "ipython3",
   "version": "3.12.7"
  }
 },
 "nbformat": 4,
 "nbformat_minor": 5
}
