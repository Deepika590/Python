{
 "cells": [
  {
   "cell_type": "markdown",
   "id": "3ae823cc-e097-4cc8-b4c6-f46711ef2afd",
   "metadata": {},
   "source": [
    "# 26/12/24  - Home work"
   ]
  },
  {
   "cell_type": "markdown",
   "id": "53dd6f93-b9fb-44fd-beec-96b0a8e73744",
   "metadata": {},
   "source": [
    "# Conditional Statements"
   ]
  },
  {
   "cell_type": "code",
   "execution_count": 40,
   "id": "6769269d-1eb4-4707-911a-7b26fb5807df",
   "metadata": {},
   "outputs": [
    {
     "name": "stdin",
     "output_type": "stream",
     "text": [
      "Enter a number: 5\n"
     ]
    },
    {
     "name": "stdout",
     "output_type": "stream",
     "text": [
      "5 is odd number\n"
     ]
    }
   ],
   "source": [
    "#Even or Odd\n",
    "#1.Write a program that takes an integer input from the user and checks if it's even or odd.\n",
    "num=int(input(\"Enter a number:\"))\n",
    "if num%2==0:\n",
    "    print(num,\"is Even number\")\n",
    "else:\n",
    "    print(num,\"is odd number\")"
   ]
  },
  {
   "cell_type": "code",
   "execution_count": 19,
   "id": "73389032-52ec-4488-9252-52d4f875f2c8",
   "metadata": {},
   "outputs": [
    {
     "name": "stdin",
     "output_type": "stream",
     "text": [
      "Enter Score: 80\n"
     ]
    },
    {
     "name": "stdout",
     "output_type": "stream",
     "text": [
      "80 C Grade\n"
     ]
    }
   ],
   "source": [
    "#Grade checker\n",
    "#2. Write a program that takes a score (0–100) as input and outputs a grade:\n",
    "#- A: 90–100\n",
    "#- B: 80–89\n",
    "#- C: 70–79\n",
    "#- D: 60–69\n",
    "#- F: Below 60\n",
    "score=int(input(\"Enter Score:\"))\n",
    "if(score>=90 and  score>=100):\n",
    "    print(score,\"A Grade\")\n",
    "elif(score>=80 and score>=89):\n",
    "    print(score,\"B Grade\")\n",
    "elif(score>=70 and score>=69):\n",
    "    print(score,\"C Grade\")\n",
    "elif(score>=60 and score>=69):\n",
    "    print(score,\"D Grade\")\n",
    "else:\n",
    "    print(score,\"Below 60 F Grade\")\n",
    "                "
   ]
  },
  {
   "cell_type": "code",
   "execution_count": 41,
   "id": "ee6a1373-593e-4f39-81b1-316b12b012c8",
   "metadata": {},
   "outputs": [
    {
     "name": "stdin",
     "output_type": "stream",
     "text": [
      "Enter a number: 3\n"
     ]
    },
    {
     "name": "stdout",
     "output_type": "stream",
     "text": [
      "3 is Positive Number\n"
     ]
    }
   ],
   "source": [
    "#3. Write a program that checks if a given number is positive, negative, or zero.\n",
    "number=int(input(\"Enter a number:\"))\n",
    "if number>0:\n",
    "    print(number,\"is Positive Number\")\n",
    "elif number<0:\n",
    "    print(nuumber,\"is Negative Number\")\n",
    "else:\n",
    "    print(\"Zero\")"
   ]
  },
  {
   "cell_type": "code",
   "execution_count": 51,
   "id": "0325064a-b8a9-4ce4-9429-549b5c742432",
   "metadata": {},
   "outputs": [
    {
     "name": "stdin",
     "output_type": "stream",
     "text": [
      "Enter the year: 2019\n"
     ]
    },
    {
     "name": "stdout",
     "output_type": "stream",
     "text": [
      "2019 is not a leap year\n"
     ]
    }
   ],
   "source": [
    "# 4.Write a program that checks if a year is a leap year. A year is a leap year if:\n",
    "#- It is divisible by 4.\n",
    "#- But not divisible by 100 unless also divisible by 400.\n",
    "year=int(input(\"Enter the year:\"))\n",
    "if year%4==0 and year%100!=0 or year%400==0:\n",
    "    print(year,\"is a leap year\")\n",
    "else:\n",
    "    print(year,\"is not a leap year\")"
   ]
  },
  {
   "cell_type": "code",
   "execution_count": 19,
   "id": "5a5444f5-f9d2-404a-8fd8-ed1dc9eed1d4",
   "metadata": {},
   "outputs": [
    {
     "name": "stdin",
     "output_type": "stream",
     "text": [
      "Enter a number: 2\n",
      "Enter a number: 3\n",
      "Enter a number: 6\n"
     ]
    },
    {
     "name": "stdout",
     "output_type": "stream",
     "text": [
      "2 is a smallest number\n"
     ]
    }
   ],
   "source": [
    "#5.Write a program that takes three numbers as input and prints the smallest of the three.\n",
    "a=int(input(\"Enter a number:\"))\n",
    "b=int(input(\"Enter a number:\"))\n",
    "c=int(input(\"Enter a number:\"))\n",
    "if a<b and a<c:\n",
    "    print(a,\"is a smallest number\")\n",
    "elif b<a and b<c:\n",
    "    print(b,\"is a smallest number\")\n",
    "else:\n",
    "    print(c,\"is a smallest number\")"
   ]
  },
  {
   "cell_type": "code",
   "execution_count": 8,
   "id": "035fc90d-e259-4811-97bf-c5c1783fb8b0",
   "metadata": {},
   "outputs": [
    {
     "name": "stdin",
     "output_type": "stream",
     "text": [
      "Enter a password python234\n"
     ]
    },
    {
     "name": "stdout",
     "output_type": "stream",
     "text": [
      "python234 Access denied\n"
     ]
    }
   ],
   "source": [
    "# 6.Create a program that asks the user to enter a password and checks if it matches a pre-defined password (e.g., `\"Python123\"`). \n",
    "#If it matches, print \"Access granted\"; otherwise, print \"Access denied\".\n",
    "password=\"Python123\"\n",
    "new_password=str(input(\"Enter a password\"))\n",
    "if(password == new_password):\n",
    "    print(new_password,\"Access granted\")\n",
    "else:\n",
    "    print(new_password,\"Access denied\")\n"
   ]
  },
  {
   "cell_type": "code",
   "execution_count": 18,
   "id": "fb61d9f7-9451-48b2-9d7c-8c954a1b032b",
   "metadata": {},
   "outputs": [
    {
     "name": "stdin",
     "output_type": "stream",
     "text": [
      "Enter num1: 5\n",
      "Enter num2: 4\n",
      "Enter operator: *\n"
     ]
    },
    {
     "name": "stdout",
     "output_type": "stream",
     "text": [
      "Multiplication: 20\n"
     ]
    }
   ],
   "source": [
    "# 7.Write a program that asks the user for two numbers and an operator (`+`, `-`, `*`, `/`). Perform the operation and print the result.\n",
    "num1=int(input(\"Enter num1:\"))\n",
    "num2=int(input(\"Enter num2:\"))\n",
    "operator=input(\"Enter operator:\")\n",
    "if operator == \"+\":\n",
    "    print(\"Add:\",num1+num2)\n",
    "elif operator== \"-\":\n",
    "    print(\"Substraction:\",num1-num2)\n",
    "elif operator == \"*\":\n",
    "    print(\"Multiplication:\",num1*num2)\n",
    "elif operator == \"/\":\n",
    "    print(\"Division:\",num1/num2)\n",
    "else:\n",
    "    print(\"Invalid Operator\")\n"
   ]
  },
  {
   "cell_type": "code",
   "execution_count": 21,
   "id": "0ca4f2eb-103f-49df-8557-5873db7aeb5f",
   "metadata": {},
   "outputs": [
    {
     "name": "stdin",
     "output_type": "stream",
     "text": [
      "Enter the age: 12\n"
     ]
    },
    {
     "name": "stdout",
     "output_type": "stream",
     "text": [
      "12 age is not eligible for vote\n"
     ]
    }
   ],
   "source": [
    "# 8.Write a program that checks if the user's age allows them to vote (age >= 18).\n",
    "age=int(input(\"Enter the age:\"))\n",
    "if age>=18:\n",
    "    print(age,\"age is eligible for vote\")\n",
    "else:\n",
    "    print(age,\"age is not eligible for vote\")\n",
    "    "
   ]
  },
  {
   "cell_type": "code",
   "execution_count": 8,
   "id": "9635f791-f26b-475c-b634-afa33ed34324",
   "metadata": {},
   "outputs": [
    {
     "name": "stdin",
     "output_type": "stream",
     "text": [
      "Enter a single character:  B\n"
     ]
    },
    {
     "name": "stdout",
     "output_type": "stream",
     "text": [
      "The character is a consonant.\n"
     ]
    }
   ],
   "source": [
    "# 9.Write a program that takes a single character as input and checks if it is:\n",
    "#- A vowel (a, e, i, o, u)\n",
    "#- A consonant\n",
    "#- Not a letter\n",
    "char = input(\"Enter a single character: \")\n",
    "if char.isalpha():\n",
    "    char = char.lower()\n",
    "    if char in 'aeiou':\n",
    "        print(\"The character is a vowel.\")\n",
    "    else:\n",
    "        print(\"The character is a consonant.\")\n",
    "else:\n",
    "    print(\"The character is not a letter.\")\n"
   ]
  },
  {
   "cell_type": "code",
   "execution_count": 9,
   "id": "95c2028e-ac60-43cc-aa8a-6064becf4dba",
   "metadata": {},
   "outputs": [
    {
     "name": "stdin",
     "output_type": "stream",
     "text": [
      "Enter a day: sunday\n"
     ]
    },
    {
     "name": "stdout",
     "output_type": "stream",
     "text": [
      "sunday is a weekend\n"
     ]
    }
   ],
   "source": [
    "# 10.Write a program that asks the user to input a day of the week and checks if it’s a weekday or weekend.\n",
    "weekday=[\"monday\",\"tuesday\",\"wednesday\",\"thursday\",\"friday\"]\n",
    "weekend=[\"saturday\",\"sunday\"]\n",
    "day=str(input(\"Enter a day:\"))\n",
    "if day in weekday:\n",
    "    print(day,\"is a weekday\")\n",
    "elif day in weekend:\n",
    "    print(day,\"is a weekend\")\n",
    "else:\n",
    "    print(\"Invaild input\")\n",
    "    "
   ]
  },
  {
   "cell_type": "code",
   "execution_count": null,
   "id": "cf1efa57-de27-452b-a663-c0dc01189f9e",
   "metadata": {},
   "outputs": [],
   "source": []
  }
 ],
 "metadata": {
  "kernelspec": {
   "display_name": "Python 3 (ipykernel)",
   "language": "python",
   "name": "python3"
  },
  "language_info": {
   "codemirror_mode": {
    "name": "ipython",
    "version": 3
   },
   "file_extension": ".py",
   "mimetype": "text/x-python",
   "name": "python",
   "nbconvert_exporter": "python",
   "pygments_lexer": "ipython3",
   "version": "3.12.7"
  }
 },
 "nbformat": 4,
 "nbformat_minor": 5
}
